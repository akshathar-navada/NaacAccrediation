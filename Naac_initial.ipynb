{
  "nbformat": 4,
  "nbformat_minor": 0,
  "metadata": {
    "colab": {
      "provenance": [],
      "collapsed_sections": [],
      "authorship_tag": "ABX9TyN7Bi+EtJioCPCT4IBwgqoU",
      "include_colab_link": true
    },
    "kernelspec": {
      "name": "python3",
      "display_name": "Python 3"
    },
    "language_info": {
      "name": "python"
    }
  },
  "cells": [
    {
      "cell_type": "markdown",
      "metadata": {
        "id": "view-in-github",
        "colab_type": "text"
      },
      "source": [
        "<a href=\"https://colab.research.google.com/github/akshathar-navada/NaacAccrediation/blob/main/Naac_initial.ipynb\" target=\"_parent\"><img src=\"https://colab.research.google.com/assets/colab-badge.svg\" alt=\"Open In Colab\"/></a>"
      ]
    },
    {
      "cell_type": "markdown",
      "source": [
        "**Importing required dependencies**"
      ],
      "metadata": {
        "id": "3jF9JxLkQQVm"
      }
    },
    {
      "cell_type": "code",
      "execution_count": null,
      "metadata": {
        "id": "YQQ3UhDPO33N"
      },
      "outputs": [],
      "source": [
        "# This Python 3 environment comes with many helpful analytics libraries installed\n",
        "# It is defined by the kaggle/python Docker image: https://github.com/kaggle/docker-python\n",
        "# For example, here's several helpful packages to load\n",
        "\n",
        "import numpy as np # linear algebra\n",
        "import pandas as pd # data processing, CSV file I/O (e.g. pd.read_csv)\n",
        "import matplotlib.pyplot as plt\n",
        "import seaborn as sea\n",
        "\n",
        "# Input data files are available in the read-only \"../input/\" directory\n",
        "# For example, running this (by clicking run or pressing Shift+Enter) will list all files under the input directory\n",
        "\n",
        "import os\n",
        "for dirname, _, filenames in os.walk('/kaggle/input'):\n",
        "    for filename in filenames:\n",
        "        print(os.path.join(dirname, filename))\n",
        "\n",
        "# You can write up to 20GB to the current directory (/kaggle/working/) that gets preserved as output when you create a version using \"Save & Run All\" \n",
        "# You can also write temporary files to /kaggle/temp/, but they won't be saved outside of the current session"
      ]
    },
    {
      "cell_type": "markdown",
      "source": [
        "**Data Collection and Data Processing**"
      ],
      "metadata": {
        "id": "Dk7naoL-RN8Z"
      }
    },
    {
      "cell_type": "code",
      "source": [
        "#loading the dataset to pandas dataframe\n",
        "\n",
        "dataset = pd.read_csv('/content/NAAC accreditation of Institutions.csv')"
      ],
      "metadata": {
        "id": "dBrQDL5oQ0mL"
      },
      "execution_count": null,
      "outputs": []
    },
    {
      "cell_type": "code",
      "source": [
        "#Displaying the datasets (By default head() displays starting 5 rows in the dataset)\n",
        "\n",
        "dataset.head()"
      ],
      "metadata": {
        "colab": {
          "base_uri": "https://localhost:8080/",
          "height": 206
        },
        "id": "5MvYHq2rRv_B",
        "outputId": "4aeabf9c-ea31-4e03-bc6f-c5f6bcc28e35"
      },
      "execution_count": null,
      "outputs": [
        {
          "output_type": "execute_result",
          "data": {
            "text/plain": [
              "   Sr.No                                Name of the College  \\\n",
              "0      1  Mahatma Gandhi Government College, Rampur, May...   \n",
              "1      2  Jawaharlal Nehru Rajkeeya Mahavidyalaya, Port ...   \n",
              "2      3  Dr. B. R. Ambedkar Institute of Technology (Fi...   \n",
              "3      4  Aditya College of Engineering and Technology K...   \n",
              "4      5  Aditya Engineering College  Dist. East Godavar...   \n",
              "\n",
              "                         State  CGPA Grade Accreditation valid up to  \\\n",
              "0  Andaman and Nicobar Islands  1.88     C                22-02-2026   \n",
              "1  Andaman and Nicobar Islands  3.01     A                04-11-2021   \n",
              "2  Andaman and Nicobar Islands  2.61    B+                02-07-2023   \n",
              "3               Andhra Pradesh  2.68     B                10-07-2021   \n",
              "4               Andhra Pradesh  3.11     A                30-04-2020   \n",
              "\n",
              "  Unnamed: 6  \n",
              "0        NaN  \n",
              "1        NaN  \n",
              "2        NaN  \n",
              "3        NaN  \n",
              "4        NaN  "
            ],
            "text/html": [
              "\n",
              "  <div id=\"df-7f403884-3ca6-4f71-89e1-ce0d8daf4eeb\">\n",
              "    <div class=\"colab-df-container\">\n",
              "      <div>\n",
              "<style scoped>\n",
              "    .dataframe tbody tr th:only-of-type {\n",
              "        vertical-align: middle;\n",
              "    }\n",
              "\n",
              "    .dataframe tbody tr th {\n",
              "        vertical-align: top;\n",
              "    }\n",
              "\n",
              "    .dataframe thead th {\n",
              "        text-align: right;\n",
              "    }\n",
              "</style>\n",
              "<table border=\"1\" class=\"dataframe\">\n",
              "  <thead>\n",
              "    <tr style=\"text-align: right;\">\n",
              "      <th></th>\n",
              "      <th>Sr.No</th>\n",
              "      <th>Name of the College</th>\n",
              "      <th>State</th>\n",
              "      <th>CGPA</th>\n",
              "      <th>Grade</th>\n",
              "      <th>Accreditation valid up to</th>\n",
              "      <th>Unnamed: 6</th>\n",
              "    </tr>\n",
              "  </thead>\n",
              "  <tbody>\n",
              "    <tr>\n",
              "      <th>0</th>\n",
              "      <td>1</td>\n",
              "      <td>Mahatma Gandhi Government College, Rampur, May...</td>\n",
              "      <td>Andaman and Nicobar Islands</td>\n",
              "      <td>1.88</td>\n",
              "      <td>C</td>\n",
              "      <td>22-02-2026</td>\n",
              "      <td>NaN</td>\n",
              "    </tr>\n",
              "    <tr>\n",
              "      <th>1</th>\n",
              "      <td>2</td>\n",
              "      <td>Jawaharlal Nehru Rajkeeya Mahavidyalaya, Port ...</td>\n",
              "      <td>Andaman and Nicobar Islands</td>\n",
              "      <td>3.01</td>\n",
              "      <td>A</td>\n",
              "      <td>04-11-2021</td>\n",
              "      <td>NaN</td>\n",
              "    </tr>\n",
              "    <tr>\n",
              "      <th>2</th>\n",
              "      <td>3</td>\n",
              "      <td>Dr. B. R. Ambedkar Institute of Technology (Fi...</td>\n",
              "      <td>Andaman and Nicobar Islands</td>\n",
              "      <td>2.61</td>\n",
              "      <td>B+</td>\n",
              "      <td>02-07-2023</td>\n",
              "      <td>NaN</td>\n",
              "    </tr>\n",
              "    <tr>\n",
              "      <th>3</th>\n",
              "      <td>4</td>\n",
              "      <td>Aditya College of Engineering and Technology K...</td>\n",
              "      <td>Andhra Pradesh</td>\n",
              "      <td>2.68</td>\n",
              "      <td>B</td>\n",
              "      <td>10-07-2021</td>\n",
              "      <td>NaN</td>\n",
              "    </tr>\n",
              "    <tr>\n",
              "      <th>4</th>\n",
              "      <td>5</td>\n",
              "      <td>Aditya Engineering College  Dist. East Godavar...</td>\n",
              "      <td>Andhra Pradesh</td>\n",
              "      <td>3.11</td>\n",
              "      <td>A</td>\n",
              "      <td>30-04-2020</td>\n",
              "      <td>NaN</td>\n",
              "    </tr>\n",
              "  </tbody>\n",
              "</table>\n",
              "</div>\n",
              "      <button class=\"colab-df-convert\" onclick=\"convertToInteractive('df-7f403884-3ca6-4f71-89e1-ce0d8daf4eeb')\"\n",
              "              title=\"Convert this dataframe to an interactive table.\"\n",
              "              style=\"display:none;\">\n",
              "        \n",
              "  <svg xmlns=\"http://www.w3.org/2000/svg\" height=\"24px\"viewBox=\"0 0 24 24\"\n",
              "       width=\"24px\">\n",
              "    <path d=\"M0 0h24v24H0V0z\" fill=\"none\"/>\n",
              "    <path d=\"M18.56 5.44l.94 2.06.94-2.06 2.06-.94-2.06-.94-.94-2.06-.94 2.06-2.06.94zm-11 1L8.5 8.5l.94-2.06 2.06-.94-2.06-.94L8.5 2.5l-.94 2.06-2.06.94zm10 10l.94 2.06.94-2.06 2.06-.94-2.06-.94-.94-2.06-.94 2.06-2.06.94z\"/><path d=\"M17.41 7.96l-1.37-1.37c-.4-.4-.92-.59-1.43-.59-.52 0-1.04.2-1.43.59L10.3 9.45l-7.72 7.72c-.78.78-.78 2.05 0 2.83L4 21.41c.39.39.9.59 1.41.59.51 0 1.02-.2 1.41-.59l7.78-7.78 2.81-2.81c.8-.78.8-2.07 0-2.86zM5.41 20L4 18.59l7.72-7.72 1.47 1.35L5.41 20z\"/>\n",
              "  </svg>\n",
              "      </button>\n",
              "      \n",
              "  <style>\n",
              "    .colab-df-container {\n",
              "      display:flex;\n",
              "      flex-wrap:wrap;\n",
              "      gap: 12px;\n",
              "    }\n",
              "\n",
              "    .colab-df-convert {\n",
              "      background-color: #E8F0FE;\n",
              "      border: none;\n",
              "      border-radius: 50%;\n",
              "      cursor: pointer;\n",
              "      display: none;\n",
              "      fill: #1967D2;\n",
              "      height: 32px;\n",
              "      padding: 0 0 0 0;\n",
              "      width: 32px;\n",
              "    }\n",
              "\n",
              "    .colab-df-convert:hover {\n",
              "      background-color: #E2EBFA;\n",
              "      box-shadow: 0px 1px 2px rgba(60, 64, 67, 0.3), 0px 1px 3px 1px rgba(60, 64, 67, 0.15);\n",
              "      fill: #174EA6;\n",
              "    }\n",
              "\n",
              "    [theme=dark] .colab-df-convert {\n",
              "      background-color: #3B4455;\n",
              "      fill: #D2E3FC;\n",
              "    }\n",
              "\n",
              "    [theme=dark] .colab-df-convert:hover {\n",
              "      background-color: #434B5C;\n",
              "      box-shadow: 0px 1px 3px 1px rgba(0, 0, 0, 0.15);\n",
              "      filter: drop-shadow(0px 1px 2px rgba(0, 0, 0, 0.3));\n",
              "      fill: #FFFFFF;\n",
              "    }\n",
              "  </style>\n",
              "\n",
              "      <script>\n",
              "        const buttonEl =\n",
              "          document.querySelector('#df-7f403884-3ca6-4f71-89e1-ce0d8daf4eeb button.colab-df-convert');\n",
              "        buttonEl.style.display =\n",
              "          google.colab.kernel.accessAllowed ? 'block' : 'none';\n",
              "\n",
              "        async function convertToInteractive(key) {\n",
              "          const element = document.querySelector('#df-7f403884-3ca6-4f71-89e1-ce0d8daf4eeb');\n",
              "          const dataTable =\n",
              "            await google.colab.kernel.invokeFunction('convertToInteractive',\n",
              "                                                     [key], {});\n",
              "          if (!dataTable) return;\n",
              "\n",
              "          const docLinkHtml = 'Like what you see? Visit the ' +\n",
              "            '<a target=\"_blank\" href=https://colab.research.google.com/notebooks/data_table.ipynb>data table notebook</a>'\n",
              "            + ' to learn more about interactive tables.';\n",
              "          element.innerHTML = '';\n",
              "          dataTable['output_type'] = 'display_data';\n",
              "          await google.colab.output.renderOutput(dataTable, element);\n",
              "          const docLink = document.createElement('div');\n",
              "          docLink.innerHTML = docLinkHtml;\n",
              "          element.appendChild(docLink);\n",
              "        }\n",
              "      </script>\n",
              "    </div>\n",
              "  </div>\n",
              "  "
            ]
          },
          "metadata": {},
          "execution_count": 5
        }
      ]
    },
    {
      "cell_type": "markdown",
      "source": [
        "**Data Cleaning**"
      ],
      "metadata": {
        "id": "CPeSqtXkSDZS"
      }
    },
    {
      "cell_type": "code",
      "source": [
        "#Data filtering\n",
        "\n",
        "dataset.drop('Unnamed: 6',axis=1,inplace=True)\n",
        "dataset.head()"
      ],
      "metadata": {
        "colab": {
          "base_uri": "https://localhost:8080/",
          "height": 206
        },
        "id": "xmhwWSLfSIHn",
        "outputId": "8d7b3b40-1867-4a48-88f5-609718951c49"
      },
      "execution_count": null,
      "outputs": [
        {
          "output_type": "execute_result",
          "data": {
            "text/plain": [
              "   Sr.No                                Name of the College  \\\n",
              "0      1  Mahatma Gandhi Government College, Rampur, May...   \n",
              "1      2  Jawaharlal Nehru Rajkeeya Mahavidyalaya, Port ...   \n",
              "2      3  Dr. B. R. Ambedkar Institute of Technology (Fi...   \n",
              "3      4  Aditya College of Engineering and Technology K...   \n",
              "4      5  Aditya Engineering College  Dist. East Godavar...   \n",
              "\n",
              "                         State  CGPA Grade Accreditation valid up to  \n",
              "0  Andaman and Nicobar Islands  1.88     C                22-02-2026  \n",
              "1  Andaman and Nicobar Islands  3.01     A                04-11-2021  \n",
              "2  Andaman and Nicobar Islands  2.61    B+                02-07-2023  \n",
              "3               Andhra Pradesh  2.68     B                10-07-2021  \n",
              "4               Andhra Pradesh  3.11     A                30-04-2020  "
            ],
            "text/html": [
              "\n",
              "  <div id=\"df-0dc2ea79-7bef-4c4c-95e2-df50810d102e\">\n",
              "    <div class=\"colab-df-container\">\n",
              "      <div>\n",
              "<style scoped>\n",
              "    .dataframe tbody tr th:only-of-type {\n",
              "        vertical-align: middle;\n",
              "    }\n",
              "\n",
              "    .dataframe tbody tr th {\n",
              "        vertical-align: top;\n",
              "    }\n",
              "\n",
              "    .dataframe thead th {\n",
              "        text-align: right;\n",
              "    }\n",
              "</style>\n",
              "<table border=\"1\" class=\"dataframe\">\n",
              "  <thead>\n",
              "    <tr style=\"text-align: right;\">\n",
              "      <th></th>\n",
              "      <th>Sr.No</th>\n",
              "      <th>Name of the College</th>\n",
              "      <th>State</th>\n",
              "      <th>CGPA</th>\n",
              "      <th>Grade</th>\n",
              "      <th>Accreditation valid up to</th>\n",
              "    </tr>\n",
              "  </thead>\n",
              "  <tbody>\n",
              "    <tr>\n",
              "      <th>0</th>\n",
              "      <td>1</td>\n",
              "      <td>Mahatma Gandhi Government College, Rampur, May...</td>\n",
              "      <td>Andaman and Nicobar Islands</td>\n",
              "      <td>1.88</td>\n",
              "      <td>C</td>\n",
              "      <td>22-02-2026</td>\n",
              "    </tr>\n",
              "    <tr>\n",
              "      <th>1</th>\n",
              "      <td>2</td>\n",
              "      <td>Jawaharlal Nehru Rajkeeya Mahavidyalaya, Port ...</td>\n",
              "      <td>Andaman and Nicobar Islands</td>\n",
              "      <td>3.01</td>\n",
              "      <td>A</td>\n",
              "      <td>04-11-2021</td>\n",
              "    </tr>\n",
              "    <tr>\n",
              "      <th>2</th>\n",
              "      <td>3</td>\n",
              "      <td>Dr. B. R. Ambedkar Institute of Technology (Fi...</td>\n",
              "      <td>Andaman and Nicobar Islands</td>\n",
              "      <td>2.61</td>\n",
              "      <td>B+</td>\n",
              "      <td>02-07-2023</td>\n",
              "    </tr>\n",
              "    <tr>\n",
              "      <th>3</th>\n",
              "      <td>4</td>\n",
              "      <td>Aditya College of Engineering and Technology K...</td>\n",
              "      <td>Andhra Pradesh</td>\n",
              "      <td>2.68</td>\n",
              "      <td>B</td>\n",
              "      <td>10-07-2021</td>\n",
              "    </tr>\n",
              "    <tr>\n",
              "      <th>4</th>\n",
              "      <td>5</td>\n",
              "      <td>Aditya Engineering College  Dist. East Godavar...</td>\n",
              "      <td>Andhra Pradesh</td>\n",
              "      <td>3.11</td>\n",
              "      <td>A</td>\n",
              "      <td>30-04-2020</td>\n",
              "    </tr>\n",
              "  </tbody>\n",
              "</table>\n",
              "</div>\n",
              "      <button class=\"colab-df-convert\" onclick=\"convertToInteractive('df-0dc2ea79-7bef-4c4c-95e2-df50810d102e')\"\n",
              "              title=\"Convert this dataframe to an interactive table.\"\n",
              "              style=\"display:none;\">\n",
              "        \n",
              "  <svg xmlns=\"http://www.w3.org/2000/svg\" height=\"24px\"viewBox=\"0 0 24 24\"\n",
              "       width=\"24px\">\n",
              "    <path d=\"M0 0h24v24H0V0z\" fill=\"none\"/>\n",
              "    <path d=\"M18.56 5.44l.94 2.06.94-2.06 2.06-.94-2.06-.94-.94-2.06-.94 2.06-2.06.94zm-11 1L8.5 8.5l.94-2.06 2.06-.94-2.06-.94L8.5 2.5l-.94 2.06-2.06.94zm10 10l.94 2.06.94-2.06 2.06-.94-2.06-.94-.94-2.06-.94 2.06-2.06.94z\"/><path d=\"M17.41 7.96l-1.37-1.37c-.4-.4-.92-.59-1.43-.59-.52 0-1.04.2-1.43.59L10.3 9.45l-7.72 7.72c-.78.78-.78 2.05 0 2.83L4 21.41c.39.39.9.59 1.41.59.51 0 1.02-.2 1.41-.59l7.78-7.78 2.81-2.81c.8-.78.8-2.07 0-2.86zM5.41 20L4 18.59l7.72-7.72 1.47 1.35L5.41 20z\"/>\n",
              "  </svg>\n",
              "      </button>\n",
              "      \n",
              "  <style>\n",
              "    .colab-df-container {\n",
              "      display:flex;\n",
              "      flex-wrap:wrap;\n",
              "      gap: 12px;\n",
              "    }\n",
              "\n",
              "    .colab-df-convert {\n",
              "      background-color: #E8F0FE;\n",
              "      border: none;\n",
              "      border-radius: 50%;\n",
              "      cursor: pointer;\n",
              "      display: none;\n",
              "      fill: #1967D2;\n",
              "      height: 32px;\n",
              "      padding: 0 0 0 0;\n",
              "      width: 32px;\n",
              "    }\n",
              "\n",
              "    .colab-df-convert:hover {\n",
              "      background-color: #E2EBFA;\n",
              "      box-shadow: 0px 1px 2px rgba(60, 64, 67, 0.3), 0px 1px 3px 1px rgba(60, 64, 67, 0.15);\n",
              "      fill: #174EA6;\n",
              "    }\n",
              "\n",
              "    [theme=dark] .colab-df-convert {\n",
              "      background-color: #3B4455;\n",
              "      fill: #D2E3FC;\n",
              "    }\n",
              "\n",
              "    [theme=dark] .colab-df-convert:hover {\n",
              "      background-color: #434B5C;\n",
              "      box-shadow: 0px 1px 3px 1px rgba(0, 0, 0, 0.15);\n",
              "      filter: drop-shadow(0px 1px 2px rgba(0, 0, 0, 0.3));\n",
              "      fill: #FFFFFF;\n",
              "    }\n",
              "  </style>\n",
              "\n",
              "      <script>\n",
              "        const buttonEl =\n",
              "          document.querySelector('#df-0dc2ea79-7bef-4c4c-95e2-df50810d102e button.colab-df-convert');\n",
              "        buttonEl.style.display =\n",
              "          google.colab.kernel.accessAllowed ? 'block' : 'none';\n",
              "\n",
              "        async function convertToInteractive(key) {\n",
              "          const element = document.querySelector('#df-0dc2ea79-7bef-4c4c-95e2-df50810d102e');\n",
              "          const dataTable =\n",
              "            await google.colab.kernel.invokeFunction('convertToInteractive',\n",
              "                                                     [key], {});\n",
              "          if (!dataTable) return;\n",
              "\n",
              "          const docLinkHtml = 'Like what you see? Visit the ' +\n",
              "            '<a target=\"_blank\" href=https://colab.research.google.com/notebooks/data_table.ipynb>data table notebook</a>'\n",
              "            + ' to learn more about interactive tables.';\n",
              "          element.innerHTML = '';\n",
              "          dataTable['output_type'] = 'display_data';\n",
              "          await google.colab.output.renderOutput(dataTable, element);\n",
              "          const docLink = document.createElement('div');\n",
              "          docLink.innerHTML = docLinkHtml;\n",
              "          element.appendChild(docLink);\n",
              "        }\n",
              "      </script>\n",
              "    </div>\n",
              "  </div>\n",
              "  "
            ]
          },
          "metadata": {},
          "execution_count": 6
        }
      ]
    },
    {
      "cell_type": "markdown",
      "source": [
        "Find Shape of our dataset (no of rows and no of columns)"
      ],
      "metadata": {
        "id": "pHQBv8rFSbte"
      }
    },
    {
      "cell_type": "code",
      "source": [
        "dataset.shape"
      ],
      "metadata": {
        "colab": {
          "base_uri": "https://localhost:8080/"
        },
        "id": "gMI0DcVaSTF3",
        "outputId": "0958c899-aafa-41bc-f739-2fa4c9a98aa6"
      },
      "execution_count": null,
      "outputs": [
        {
          "output_type": "execute_result",
          "data": {
            "text/plain": [
              "(6201, 6)"
            ]
          },
          "metadata": {},
          "execution_count": 7
        }
      ]
    },
    {
      "cell_type": "markdown",
      "source": [
        "Rename Columns"
      ],
      "metadata": {
        "id": "N884DvqdSmRQ"
      }
    },
    {
      "cell_type": "code",
      "source": [
        "#Renaming columns\n",
        "\n",
        "dataset.rename(columns={'Name of the College':'College Name','CGPA':'Score','Accreditation valid up to':'Valid Upto'}, inplace=True)\n",
        "dataset.head()"
      ],
      "metadata": {
        "colab": {
          "base_uri": "https://localhost:8080/",
          "height": 206
        },
        "id": "e_fHUf0WS_12",
        "outputId": "ec1d80e5-ddf6-497a-8543-7bce1209b25a"
      },
      "execution_count": null,
      "outputs": [
        {
          "output_type": "execute_result",
          "data": {
            "text/plain": [
              "   Sr.No                                       College Name  \\\n",
              "0      1  Mahatma Gandhi Government College, Rampur, May...   \n",
              "1      2  Jawaharlal Nehru Rajkeeya Mahavidyalaya, Port ...   \n",
              "2      3  Dr. B. R. Ambedkar Institute of Technology (Fi...   \n",
              "3      4  Aditya College of Engineering and Technology K...   \n",
              "4      5  Aditya Engineering College  Dist. East Godavar...   \n",
              "\n",
              "                         State  Score Grade  Valid Upto  \n",
              "0  Andaman and Nicobar Islands   1.88     C  22-02-2026  \n",
              "1  Andaman and Nicobar Islands   3.01     A  04-11-2021  \n",
              "2  Andaman and Nicobar Islands   2.61    B+  02-07-2023  \n",
              "3               Andhra Pradesh   2.68     B  10-07-2021  \n",
              "4               Andhra Pradesh   3.11     A  30-04-2020  "
            ],
            "text/html": [
              "\n",
              "  <div id=\"df-b901bb01-9ade-4abf-b230-58a1a51de37b\">\n",
              "    <div class=\"colab-df-container\">\n",
              "      <div>\n",
              "<style scoped>\n",
              "    .dataframe tbody tr th:only-of-type {\n",
              "        vertical-align: middle;\n",
              "    }\n",
              "\n",
              "    .dataframe tbody tr th {\n",
              "        vertical-align: top;\n",
              "    }\n",
              "\n",
              "    .dataframe thead th {\n",
              "        text-align: right;\n",
              "    }\n",
              "</style>\n",
              "<table border=\"1\" class=\"dataframe\">\n",
              "  <thead>\n",
              "    <tr style=\"text-align: right;\">\n",
              "      <th></th>\n",
              "      <th>Sr.No</th>\n",
              "      <th>College Name</th>\n",
              "      <th>State</th>\n",
              "      <th>Score</th>\n",
              "      <th>Grade</th>\n",
              "      <th>Valid Upto</th>\n",
              "    </tr>\n",
              "  </thead>\n",
              "  <tbody>\n",
              "    <tr>\n",
              "      <th>0</th>\n",
              "      <td>1</td>\n",
              "      <td>Mahatma Gandhi Government College, Rampur, May...</td>\n",
              "      <td>Andaman and Nicobar Islands</td>\n",
              "      <td>1.88</td>\n",
              "      <td>C</td>\n",
              "      <td>22-02-2026</td>\n",
              "    </tr>\n",
              "    <tr>\n",
              "      <th>1</th>\n",
              "      <td>2</td>\n",
              "      <td>Jawaharlal Nehru Rajkeeya Mahavidyalaya, Port ...</td>\n",
              "      <td>Andaman and Nicobar Islands</td>\n",
              "      <td>3.01</td>\n",
              "      <td>A</td>\n",
              "      <td>04-11-2021</td>\n",
              "    </tr>\n",
              "    <tr>\n",
              "      <th>2</th>\n",
              "      <td>3</td>\n",
              "      <td>Dr. B. R. Ambedkar Institute of Technology (Fi...</td>\n",
              "      <td>Andaman and Nicobar Islands</td>\n",
              "      <td>2.61</td>\n",
              "      <td>B+</td>\n",
              "      <td>02-07-2023</td>\n",
              "    </tr>\n",
              "    <tr>\n",
              "      <th>3</th>\n",
              "      <td>4</td>\n",
              "      <td>Aditya College of Engineering and Technology K...</td>\n",
              "      <td>Andhra Pradesh</td>\n",
              "      <td>2.68</td>\n",
              "      <td>B</td>\n",
              "      <td>10-07-2021</td>\n",
              "    </tr>\n",
              "    <tr>\n",
              "      <th>4</th>\n",
              "      <td>5</td>\n",
              "      <td>Aditya Engineering College  Dist. East Godavar...</td>\n",
              "      <td>Andhra Pradesh</td>\n",
              "      <td>3.11</td>\n",
              "      <td>A</td>\n",
              "      <td>30-04-2020</td>\n",
              "    </tr>\n",
              "  </tbody>\n",
              "</table>\n",
              "</div>\n",
              "      <button class=\"colab-df-convert\" onclick=\"convertToInteractive('df-b901bb01-9ade-4abf-b230-58a1a51de37b')\"\n",
              "              title=\"Convert this dataframe to an interactive table.\"\n",
              "              style=\"display:none;\">\n",
              "        \n",
              "  <svg xmlns=\"http://www.w3.org/2000/svg\" height=\"24px\"viewBox=\"0 0 24 24\"\n",
              "       width=\"24px\">\n",
              "    <path d=\"M0 0h24v24H0V0z\" fill=\"none\"/>\n",
              "    <path d=\"M18.56 5.44l.94 2.06.94-2.06 2.06-.94-2.06-.94-.94-2.06-.94 2.06-2.06.94zm-11 1L8.5 8.5l.94-2.06 2.06-.94-2.06-.94L8.5 2.5l-.94 2.06-2.06.94zm10 10l.94 2.06.94-2.06 2.06-.94-2.06-.94-.94-2.06-.94 2.06-2.06.94z\"/><path d=\"M17.41 7.96l-1.37-1.37c-.4-.4-.92-.59-1.43-.59-.52 0-1.04.2-1.43.59L10.3 9.45l-7.72 7.72c-.78.78-.78 2.05 0 2.83L4 21.41c.39.39.9.59 1.41.59.51 0 1.02-.2 1.41-.59l7.78-7.78 2.81-2.81c.8-.78.8-2.07 0-2.86zM5.41 20L4 18.59l7.72-7.72 1.47 1.35L5.41 20z\"/>\n",
              "  </svg>\n",
              "      </button>\n",
              "      \n",
              "  <style>\n",
              "    .colab-df-container {\n",
              "      display:flex;\n",
              "      flex-wrap:wrap;\n",
              "      gap: 12px;\n",
              "    }\n",
              "\n",
              "    .colab-df-convert {\n",
              "      background-color: #E8F0FE;\n",
              "      border: none;\n",
              "      border-radius: 50%;\n",
              "      cursor: pointer;\n",
              "      display: none;\n",
              "      fill: #1967D2;\n",
              "      height: 32px;\n",
              "      padding: 0 0 0 0;\n",
              "      width: 32px;\n",
              "    }\n",
              "\n",
              "    .colab-df-convert:hover {\n",
              "      background-color: #E2EBFA;\n",
              "      box-shadow: 0px 1px 2px rgba(60, 64, 67, 0.3), 0px 1px 3px 1px rgba(60, 64, 67, 0.15);\n",
              "      fill: #174EA6;\n",
              "    }\n",
              "\n",
              "    [theme=dark] .colab-df-convert {\n",
              "      background-color: #3B4455;\n",
              "      fill: #D2E3FC;\n",
              "    }\n",
              "\n",
              "    [theme=dark] .colab-df-convert:hover {\n",
              "      background-color: #434B5C;\n",
              "      box-shadow: 0px 1px 3px 1px rgba(0, 0, 0, 0.15);\n",
              "      filter: drop-shadow(0px 1px 2px rgba(0, 0, 0, 0.3));\n",
              "      fill: #FFFFFF;\n",
              "    }\n",
              "  </style>\n",
              "\n",
              "      <script>\n",
              "        const buttonEl =\n",
              "          document.querySelector('#df-b901bb01-9ade-4abf-b230-58a1a51de37b button.colab-df-convert');\n",
              "        buttonEl.style.display =\n",
              "          google.colab.kernel.accessAllowed ? 'block' : 'none';\n",
              "\n",
              "        async function convertToInteractive(key) {\n",
              "          const element = document.querySelector('#df-b901bb01-9ade-4abf-b230-58a1a51de37b');\n",
              "          const dataTable =\n",
              "            await google.colab.kernel.invokeFunction('convertToInteractive',\n",
              "                                                     [key], {});\n",
              "          if (!dataTable) return;\n",
              "\n",
              "          const docLinkHtml = 'Like what you see? Visit the ' +\n",
              "            '<a target=\"_blank\" href=https://colab.research.google.com/notebooks/data_table.ipynb>data table notebook</a>'\n",
              "            + ' to learn more about interactive tables.';\n",
              "          element.innerHTML = '';\n",
              "          dataTable['output_type'] = 'display_data';\n",
              "          await google.colab.output.renderOutput(dataTable, element);\n",
              "          const docLink = document.createElement('div');\n",
              "          docLink.innerHTML = docLinkHtml;\n",
              "          element.appendChild(docLink);\n",
              "        }\n",
              "      </script>\n",
              "    </div>\n",
              "  </div>\n",
              "  "
            ]
          },
          "metadata": {},
          "execution_count": 8
        }
      ]
    },
    {
      "cell_type": "code",
      "source": [
        "#Columns in the dataset\n",
        "\n",
        "dataset.columns"
      ],
      "metadata": {
        "colab": {
          "base_uri": "https://localhost:8080/"
        },
        "id": "s457d0jWTJse",
        "outputId": "b780ac2a-fb57-47a7-c301-f4725f2cfe69"
      },
      "execution_count": null,
      "outputs": [
        {
          "output_type": "execute_result",
          "data": {
            "text/plain": [
              "Index(['Sr.No', 'College Name', 'State', 'Score', 'Grade', 'Valid Upto'], dtype='object')"
            ]
          },
          "metadata": {},
          "execution_count": 9
        }
      ]
    },
    {
      "cell_type": "markdown",
      "source": [
        "Reset index"
      ],
      "metadata": {
        "id": "fc0PNiSLTSPL"
      }
    },
    {
      "cell_type": "code",
      "source": [
        "#setting index\n",
        "\n",
        "dataset.set_index(['Sr.No'], inplace=True)\n",
        "dataset.head()"
      ],
      "metadata": {
        "colab": {
          "base_uri": "https://localhost:8080/",
          "height": 237
        },
        "id": "d3WgT1tITUke",
        "outputId": "acb14c1d-6b08-4802-b0ef-01d146da9209"
      },
      "execution_count": null,
      "outputs": [
        {
          "output_type": "execute_result",
          "data": {
            "text/plain": [
              "                                            College Name  \\\n",
              "Sr.No                                                      \n",
              "1      Mahatma Gandhi Government College, Rampur, May...   \n",
              "2      Jawaharlal Nehru Rajkeeya Mahavidyalaya, Port ...   \n",
              "3      Dr. B. R. Ambedkar Institute of Technology (Fi...   \n",
              "4      Aditya College of Engineering and Technology K...   \n",
              "5      Aditya Engineering College  Dist. East Godavar...   \n",
              "\n",
              "                             State  Score Grade  Valid Upto  \n",
              "Sr.No                                                        \n",
              "1      Andaman and Nicobar Islands   1.88     C  22-02-2026  \n",
              "2      Andaman and Nicobar Islands   3.01     A  04-11-2021  \n",
              "3      Andaman and Nicobar Islands   2.61    B+  02-07-2023  \n",
              "4                   Andhra Pradesh   2.68     B  10-07-2021  \n",
              "5                   Andhra Pradesh   3.11     A  30-04-2020  "
            ],
            "text/html": [
              "\n",
              "  <div id=\"df-a61d668a-0468-4c82-b419-8a087dd2019d\">\n",
              "    <div class=\"colab-df-container\">\n",
              "      <div>\n",
              "<style scoped>\n",
              "    .dataframe tbody tr th:only-of-type {\n",
              "        vertical-align: middle;\n",
              "    }\n",
              "\n",
              "    .dataframe tbody tr th {\n",
              "        vertical-align: top;\n",
              "    }\n",
              "\n",
              "    .dataframe thead th {\n",
              "        text-align: right;\n",
              "    }\n",
              "</style>\n",
              "<table border=\"1\" class=\"dataframe\">\n",
              "  <thead>\n",
              "    <tr style=\"text-align: right;\">\n",
              "      <th></th>\n",
              "      <th>College Name</th>\n",
              "      <th>State</th>\n",
              "      <th>Score</th>\n",
              "      <th>Grade</th>\n",
              "      <th>Valid Upto</th>\n",
              "    </tr>\n",
              "    <tr>\n",
              "      <th>Sr.No</th>\n",
              "      <th></th>\n",
              "      <th></th>\n",
              "      <th></th>\n",
              "      <th></th>\n",
              "      <th></th>\n",
              "    </tr>\n",
              "  </thead>\n",
              "  <tbody>\n",
              "    <tr>\n",
              "      <th>1</th>\n",
              "      <td>Mahatma Gandhi Government College, Rampur, May...</td>\n",
              "      <td>Andaman and Nicobar Islands</td>\n",
              "      <td>1.88</td>\n",
              "      <td>C</td>\n",
              "      <td>22-02-2026</td>\n",
              "    </tr>\n",
              "    <tr>\n",
              "      <th>2</th>\n",
              "      <td>Jawaharlal Nehru Rajkeeya Mahavidyalaya, Port ...</td>\n",
              "      <td>Andaman and Nicobar Islands</td>\n",
              "      <td>3.01</td>\n",
              "      <td>A</td>\n",
              "      <td>04-11-2021</td>\n",
              "    </tr>\n",
              "    <tr>\n",
              "      <th>3</th>\n",
              "      <td>Dr. B. R. Ambedkar Institute of Technology (Fi...</td>\n",
              "      <td>Andaman and Nicobar Islands</td>\n",
              "      <td>2.61</td>\n",
              "      <td>B+</td>\n",
              "      <td>02-07-2023</td>\n",
              "    </tr>\n",
              "    <tr>\n",
              "      <th>4</th>\n",
              "      <td>Aditya College of Engineering and Technology K...</td>\n",
              "      <td>Andhra Pradesh</td>\n",
              "      <td>2.68</td>\n",
              "      <td>B</td>\n",
              "      <td>10-07-2021</td>\n",
              "    </tr>\n",
              "    <tr>\n",
              "      <th>5</th>\n",
              "      <td>Aditya Engineering College  Dist. East Godavar...</td>\n",
              "      <td>Andhra Pradesh</td>\n",
              "      <td>3.11</td>\n",
              "      <td>A</td>\n",
              "      <td>30-04-2020</td>\n",
              "    </tr>\n",
              "  </tbody>\n",
              "</table>\n",
              "</div>\n",
              "      <button class=\"colab-df-convert\" onclick=\"convertToInteractive('df-a61d668a-0468-4c82-b419-8a087dd2019d')\"\n",
              "              title=\"Convert this dataframe to an interactive table.\"\n",
              "              style=\"display:none;\">\n",
              "        \n",
              "  <svg xmlns=\"http://www.w3.org/2000/svg\" height=\"24px\"viewBox=\"0 0 24 24\"\n",
              "       width=\"24px\">\n",
              "    <path d=\"M0 0h24v24H0V0z\" fill=\"none\"/>\n",
              "    <path d=\"M18.56 5.44l.94 2.06.94-2.06 2.06-.94-2.06-.94-.94-2.06-.94 2.06-2.06.94zm-11 1L8.5 8.5l.94-2.06 2.06-.94-2.06-.94L8.5 2.5l-.94 2.06-2.06.94zm10 10l.94 2.06.94-2.06 2.06-.94-2.06-.94-.94-2.06-.94 2.06-2.06.94z\"/><path d=\"M17.41 7.96l-1.37-1.37c-.4-.4-.92-.59-1.43-.59-.52 0-1.04.2-1.43.59L10.3 9.45l-7.72 7.72c-.78.78-.78 2.05 0 2.83L4 21.41c.39.39.9.59 1.41.59.51 0 1.02-.2 1.41-.59l7.78-7.78 2.81-2.81c.8-.78.8-2.07 0-2.86zM5.41 20L4 18.59l7.72-7.72 1.47 1.35L5.41 20z\"/>\n",
              "  </svg>\n",
              "      </button>\n",
              "      \n",
              "  <style>\n",
              "    .colab-df-container {\n",
              "      display:flex;\n",
              "      flex-wrap:wrap;\n",
              "      gap: 12px;\n",
              "    }\n",
              "\n",
              "    .colab-df-convert {\n",
              "      background-color: #E8F0FE;\n",
              "      border: none;\n",
              "      border-radius: 50%;\n",
              "      cursor: pointer;\n",
              "      display: none;\n",
              "      fill: #1967D2;\n",
              "      height: 32px;\n",
              "      padding: 0 0 0 0;\n",
              "      width: 32px;\n",
              "    }\n",
              "\n",
              "    .colab-df-convert:hover {\n",
              "      background-color: #E2EBFA;\n",
              "      box-shadow: 0px 1px 2px rgba(60, 64, 67, 0.3), 0px 1px 3px 1px rgba(60, 64, 67, 0.15);\n",
              "      fill: #174EA6;\n",
              "    }\n",
              "\n",
              "    [theme=dark] .colab-df-convert {\n",
              "      background-color: #3B4455;\n",
              "      fill: #D2E3FC;\n",
              "    }\n",
              "\n",
              "    [theme=dark] .colab-df-convert:hover {\n",
              "      background-color: #434B5C;\n",
              "      box-shadow: 0px 1px 3px 1px rgba(0, 0, 0, 0.15);\n",
              "      filter: drop-shadow(0px 1px 2px rgba(0, 0, 0, 0.3));\n",
              "      fill: #FFFFFF;\n",
              "    }\n",
              "  </style>\n",
              "\n",
              "      <script>\n",
              "        const buttonEl =\n",
              "          document.querySelector('#df-a61d668a-0468-4c82-b419-8a087dd2019d button.colab-df-convert');\n",
              "        buttonEl.style.display =\n",
              "          google.colab.kernel.accessAllowed ? 'block' : 'none';\n",
              "\n",
              "        async function convertToInteractive(key) {\n",
              "          const element = document.querySelector('#df-a61d668a-0468-4c82-b419-8a087dd2019d');\n",
              "          const dataTable =\n",
              "            await google.colab.kernel.invokeFunction('convertToInteractive',\n",
              "                                                     [key], {});\n",
              "          if (!dataTable) return;\n",
              "\n",
              "          const docLinkHtml = 'Like what you see? Visit the ' +\n",
              "            '<a target=\"_blank\" href=https://colab.research.google.com/notebooks/data_table.ipynb>data table notebook</a>'\n",
              "            + ' to learn more about interactive tables.';\n",
              "          element.innerHTML = '';\n",
              "          dataTable['output_type'] = 'display_data';\n",
              "          await google.colab.output.renderOutput(dataTable, element);\n",
              "          const docLink = document.createElement('div');\n",
              "          docLink.innerHTML = docLinkHtml;\n",
              "          element.appendChild(docLink);\n",
              "        }\n",
              "      </script>\n",
              "    </div>\n",
              "  </div>\n",
              "  "
            ]
          },
          "metadata": {},
          "execution_count": 10
        }
      ]
    },
    {
      "cell_type": "code",
      "source": [
        "#Columns in the dataset after resetting index\n",
        "\n",
        "dataset.columns"
      ],
      "metadata": {
        "colab": {
          "base_uri": "https://localhost:8080/"
        },
        "id": "Iq4kA6TyTYyT",
        "outputId": "6fd73238-82c8-4372-bc7c-02c5ca159a43"
      },
      "execution_count": null,
      "outputs": [
        {
          "output_type": "execute_result",
          "data": {
            "text/plain": [
              "Index(['College Name', 'State', 'Score', 'Grade', 'Valid Upto'], dtype='object')"
            ]
          },
          "metadata": {},
          "execution_count": 11
        }
      ]
    },
    {
      "cell_type": "code",
      "source": [
        "#Checking all instances of the columns\n",
        "\n",
        "all(isinstance(column, str) for column in dataset.columns)"
      ],
      "metadata": {
        "colab": {
          "base_uri": "https://localhost:8080/"
        },
        "id": "VMePrtYhTpqG",
        "outputId": "7bcfd3e6-fab4-43d7-a008-bdb7f4c7bf6c"
      },
      "execution_count": null,
      "outputs": [
        {
          "output_type": "execute_result",
          "data": {
            "text/plain": [
              "True"
            ]
          },
          "metadata": {},
          "execution_count": 12
        }
      ]
    },
    {
      "cell_type": "markdown",
      "source": [
        "Display top 5 rows of the dataset"
      ],
      "metadata": {
        "id": "9ttEiT09T1Zy"
      }
    },
    {
      "cell_type": "code",
      "source": [
        "dataset.head()"
      ],
      "metadata": {
        "colab": {
          "base_uri": "https://localhost:8080/",
          "height": 237
        },
        "id": "asKeUQ5RT3D6",
        "outputId": "ada614d1-2fca-4348-b507-797ad705b3a9"
      },
      "execution_count": null,
      "outputs": [
        {
          "output_type": "execute_result",
          "data": {
            "text/plain": [
              "                                            College Name  \\\n",
              "Sr.No                                                      \n",
              "1      Mahatma Gandhi Government College, Rampur, May...   \n",
              "2      Jawaharlal Nehru Rajkeeya Mahavidyalaya, Port ...   \n",
              "3      Dr. B. R. Ambedkar Institute of Technology (Fi...   \n",
              "4      Aditya College of Engineering and Technology K...   \n",
              "5      Aditya Engineering College  Dist. East Godavar...   \n",
              "\n",
              "                             State  Score Grade  Valid Upto  \n",
              "Sr.No                                                        \n",
              "1      Andaman and Nicobar Islands   1.88     C  22-02-2026  \n",
              "2      Andaman and Nicobar Islands   3.01     A  04-11-2021  \n",
              "3      Andaman and Nicobar Islands   2.61    B+  02-07-2023  \n",
              "4                   Andhra Pradesh   2.68     B  10-07-2021  \n",
              "5                   Andhra Pradesh   3.11     A  30-04-2020  "
            ],
            "text/html": [
              "\n",
              "  <div id=\"df-b8abfade-3f46-4d19-8525-69f1e4603567\">\n",
              "    <div class=\"colab-df-container\">\n",
              "      <div>\n",
              "<style scoped>\n",
              "    .dataframe tbody tr th:only-of-type {\n",
              "        vertical-align: middle;\n",
              "    }\n",
              "\n",
              "    .dataframe tbody tr th {\n",
              "        vertical-align: top;\n",
              "    }\n",
              "\n",
              "    .dataframe thead th {\n",
              "        text-align: right;\n",
              "    }\n",
              "</style>\n",
              "<table border=\"1\" class=\"dataframe\">\n",
              "  <thead>\n",
              "    <tr style=\"text-align: right;\">\n",
              "      <th></th>\n",
              "      <th>College Name</th>\n",
              "      <th>State</th>\n",
              "      <th>Score</th>\n",
              "      <th>Grade</th>\n",
              "      <th>Valid Upto</th>\n",
              "    </tr>\n",
              "    <tr>\n",
              "      <th>Sr.No</th>\n",
              "      <th></th>\n",
              "      <th></th>\n",
              "      <th></th>\n",
              "      <th></th>\n",
              "      <th></th>\n",
              "    </tr>\n",
              "  </thead>\n",
              "  <tbody>\n",
              "    <tr>\n",
              "      <th>1</th>\n",
              "      <td>Mahatma Gandhi Government College, Rampur, May...</td>\n",
              "      <td>Andaman and Nicobar Islands</td>\n",
              "      <td>1.88</td>\n",
              "      <td>C</td>\n",
              "      <td>22-02-2026</td>\n",
              "    </tr>\n",
              "    <tr>\n",
              "      <th>2</th>\n",
              "      <td>Jawaharlal Nehru Rajkeeya Mahavidyalaya, Port ...</td>\n",
              "      <td>Andaman and Nicobar Islands</td>\n",
              "      <td>3.01</td>\n",
              "      <td>A</td>\n",
              "      <td>04-11-2021</td>\n",
              "    </tr>\n",
              "    <tr>\n",
              "      <th>3</th>\n",
              "      <td>Dr. B. R. Ambedkar Institute of Technology (Fi...</td>\n",
              "      <td>Andaman and Nicobar Islands</td>\n",
              "      <td>2.61</td>\n",
              "      <td>B+</td>\n",
              "      <td>02-07-2023</td>\n",
              "    </tr>\n",
              "    <tr>\n",
              "      <th>4</th>\n",
              "      <td>Aditya College of Engineering and Technology K...</td>\n",
              "      <td>Andhra Pradesh</td>\n",
              "      <td>2.68</td>\n",
              "      <td>B</td>\n",
              "      <td>10-07-2021</td>\n",
              "    </tr>\n",
              "    <tr>\n",
              "      <th>5</th>\n",
              "      <td>Aditya Engineering College  Dist. East Godavar...</td>\n",
              "      <td>Andhra Pradesh</td>\n",
              "      <td>3.11</td>\n",
              "      <td>A</td>\n",
              "      <td>30-04-2020</td>\n",
              "    </tr>\n",
              "  </tbody>\n",
              "</table>\n",
              "</div>\n",
              "      <button class=\"colab-df-convert\" onclick=\"convertToInteractive('df-b8abfade-3f46-4d19-8525-69f1e4603567')\"\n",
              "              title=\"Convert this dataframe to an interactive table.\"\n",
              "              style=\"display:none;\">\n",
              "        \n",
              "  <svg xmlns=\"http://www.w3.org/2000/svg\" height=\"24px\"viewBox=\"0 0 24 24\"\n",
              "       width=\"24px\">\n",
              "    <path d=\"M0 0h24v24H0V0z\" fill=\"none\"/>\n",
              "    <path d=\"M18.56 5.44l.94 2.06.94-2.06 2.06-.94-2.06-.94-.94-2.06-.94 2.06-2.06.94zm-11 1L8.5 8.5l.94-2.06 2.06-.94-2.06-.94L8.5 2.5l-.94 2.06-2.06.94zm10 10l.94 2.06.94-2.06 2.06-.94-2.06-.94-.94-2.06-.94 2.06-2.06.94z\"/><path d=\"M17.41 7.96l-1.37-1.37c-.4-.4-.92-.59-1.43-.59-.52 0-1.04.2-1.43.59L10.3 9.45l-7.72 7.72c-.78.78-.78 2.05 0 2.83L4 21.41c.39.39.9.59 1.41.59.51 0 1.02-.2 1.41-.59l7.78-7.78 2.81-2.81c.8-.78.8-2.07 0-2.86zM5.41 20L4 18.59l7.72-7.72 1.47 1.35L5.41 20z\"/>\n",
              "  </svg>\n",
              "      </button>\n",
              "      \n",
              "  <style>\n",
              "    .colab-df-container {\n",
              "      display:flex;\n",
              "      flex-wrap:wrap;\n",
              "      gap: 12px;\n",
              "    }\n",
              "\n",
              "    .colab-df-convert {\n",
              "      background-color: #E8F0FE;\n",
              "      border: none;\n",
              "      border-radius: 50%;\n",
              "      cursor: pointer;\n",
              "      display: none;\n",
              "      fill: #1967D2;\n",
              "      height: 32px;\n",
              "      padding: 0 0 0 0;\n",
              "      width: 32px;\n",
              "    }\n",
              "\n",
              "    .colab-df-convert:hover {\n",
              "      background-color: #E2EBFA;\n",
              "      box-shadow: 0px 1px 2px rgba(60, 64, 67, 0.3), 0px 1px 3px 1px rgba(60, 64, 67, 0.15);\n",
              "      fill: #174EA6;\n",
              "    }\n",
              "\n",
              "    [theme=dark] .colab-df-convert {\n",
              "      background-color: #3B4455;\n",
              "      fill: #D2E3FC;\n",
              "    }\n",
              "\n",
              "    [theme=dark] .colab-df-convert:hover {\n",
              "      background-color: #434B5C;\n",
              "      box-shadow: 0px 1px 3px 1px rgba(0, 0, 0, 0.15);\n",
              "      filter: drop-shadow(0px 1px 2px rgba(0, 0, 0, 0.3));\n",
              "      fill: #FFFFFF;\n",
              "    }\n",
              "  </style>\n",
              "\n",
              "      <script>\n",
              "        const buttonEl =\n",
              "          document.querySelector('#df-b8abfade-3f46-4d19-8525-69f1e4603567 button.colab-df-convert');\n",
              "        buttonEl.style.display =\n",
              "          google.colab.kernel.accessAllowed ? 'block' : 'none';\n",
              "\n",
              "        async function convertToInteractive(key) {\n",
              "          const element = document.querySelector('#df-b8abfade-3f46-4d19-8525-69f1e4603567');\n",
              "          const dataTable =\n",
              "            await google.colab.kernel.invokeFunction('convertToInteractive',\n",
              "                                                     [key], {});\n",
              "          if (!dataTable) return;\n",
              "\n",
              "          const docLinkHtml = 'Like what you see? Visit the ' +\n",
              "            '<a target=\"_blank\" href=https://colab.research.google.com/notebooks/data_table.ipynb>data table notebook</a>'\n",
              "            + ' to learn more about interactive tables.';\n",
              "          element.innerHTML = '';\n",
              "          dataTable['output_type'] = 'display_data';\n",
              "          await google.colab.output.renderOutput(dataTable, element);\n",
              "          const docLink = document.createElement('div');\n",
              "          docLink.innerHTML = docLinkHtml;\n",
              "          element.appendChild(docLink);\n",
              "        }\n",
              "      </script>\n",
              "    </div>\n",
              "  </div>\n",
              "  "
            ]
          },
          "metadata": {},
          "execution_count": 13
        }
      ]
    },
    {
      "cell_type": "markdown",
      "source": [
        "Display last 5 rows of the dataset"
      ],
      "metadata": {
        "id": "RE7TEhKzT9p-"
      }
    },
    {
      "cell_type": "code",
      "source": [
        "dataset.tail()"
      ],
      "metadata": {
        "colab": {
          "base_uri": "https://localhost:8080/",
          "height": 237
        },
        "id": "2TbrPdYZUAKG",
        "outputId": "86637889-7474-4208-fea7-7bdafb754c43"
      },
      "execution_count": null,
      "outputs": [
        {
          "output_type": "execute_result",
          "data": {
            "text/plain": [
              "                                            College Name         State  Score  \\\n",
              "Sr.No                                                                           \n",
              "6197   Khandra College,P.O.- Khandra, P.S. Andal, Dis...  West Bengal    1.65   \n",
              "6198   Katwa College,Dukbanglow Road, Purba Bardhaman...  West Bengal    1.65   \n",
              "6199   NSHM Knowledge Campus, Kolkata - Group of Inst...  West Bengal    2.82   \n",
              "6200   SAHEED NURUL ISLAM MAHAVIDYALAYA,GOKULPUR-HARI...  West Bengal    2.19   \n",
              "6201   SALESIAN COLLEGE,SONADA PO SONADA DARJEELING,S...  West Bengal    3.04   \n",
              "\n",
              "      Grade  Valid Upto  \n",
              "Sr.No                    \n",
              "6197      C  01-11-2023  \n",
              "6198      C  01-11-2023  \n",
              "6199    B++  29-11-2023  \n",
              "6200      B  31-03-2024  \n",
              "6201      A  19-05-2024  "
            ],
            "text/html": [
              "\n",
              "  <div id=\"df-383e9f69-4190-47c6-97e9-d34328dbac72\">\n",
              "    <div class=\"colab-df-container\">\n",
              "      <div>\n",
              "<style scoped>\n",
              "    .dataframe tbody tr th:only-of-type {\n",
              "        vertical-align: middle;\n",
              "    }\n",
              "\n",
              "    .dataframe tbody tr th {\n",
              "        vertical-align: top;\n",
              "    }\n",
              "\n",
              "    .dataframe thead th {\n",
              "        text-align: right;\n",
              "    }\n",
              "</style>\n",
              "<table border=\"1\" class=\"dataframe\">\n",
              "  <thead>\n",
              "    <tr style=\"text-align: right;\">\n",
              "      <th></th>\n",
              "      <th>College Name</th>\n",
              "      <th>State</th>\n",
              "      <th>Score</th>\n",
              "      <th>Grade</th>\n",
              "      <th>Valid Upto</th>\n",
              "    </tr>\n",
              "    <tr>\n",
              "      <th>Sr.No</th>\n",
              "      <th></th>\n",
              "      <th></th>\n",
              "      <th></th>\n",
              "      <th></th>\n",
              "      <th></th>\n",
              "    </tr>\n",
              "  </thead>\n",
              "  <tbody>\n",
              "    <tr>\n",
              "      <th>6197</th>\n",
              "      <td>Khandra College,P.O.- Khandra, P.S. Andal, Dis...</td>\n",
              "      <td>West Bengal</td>\n",
              "      <td>1.65</td>\n",
              "      <td>C</td>\n",
              "      <td>01-11-2023</td>\n",
              "    </tr>\n",
              "    <tr>\n",
              "      <th>6198</th>\n",
              "      <td>Katwa College,Dukbanglow Road, Purba Bardhaman...</td>\n",
              "      <td>West Bengal</td>\n",
              "      <td>1.65</td>\n",
              "      <td>C</td>\n",
              "      <td>01-11-2023</td>\n",
              "    </tr>\n",
              "    <tr>\n",
              "      <th>6199</th>\n",
              "      <td>NSHM Knowledge Campus, Kolkata - Group of Inst...</td>\n",
              "      <td>West Bengal</td>\n",
              "      <td>2.82</td>\n",
              "      <td>B++</td>\n",
              "      <td>29-11-2023</td>\n",
              "    </tr>\n",
              "    <tr>\n",
              "      <th>6200</th>\n",
              "      <td>SAHEED NURUL ISLAM MAHAVIDYALAYA,GOKULPUR-HARI...</td>\n",
              "      <td>West Bengal</td>\n",
              "      <td>2.19</td>\n",
              "      <td>B</td>\n",
              "      <td>31-03-2024</td>\n",
              "    </tr>\n",
              "    <tr>\n",
              "      <th>6201</th>\n",
              "      <td>SALESIAN COLLEGE,SONADA PO SONADA DARJEELING,S...</td>\n",
              "      <td>West Bengal</td>\n",
              "      <td>3.04</td>\n",
              "      <td>A</td>\n",
              "      <td>19-05-2024</td>\n",
              "    </tr>\n",
              "  </tbody>\n",
              "</table>\n",
              "</div>\n",
              "      <button class=\"colab-df-convert\" onclick=\"convertToInteractive('df-383e9f69-4190-47c6-97e9-d34328dbac72')\"\n",
              "              title=\"Convert this dataframe to an interactive table.\"\n",
              "              style=\"display:none;\">\n",
              "        \n",
              "  <svg xmlns=\"http://www.w3.org/2000/svg\" height=\"24px\"viewBox=\"0 0 24 24\"\n",
              "       width=\"24px\">\n",
              "    <path d=\"M0 0h24v24H0V0z\" fill=\"none\"/>\n",
              "    <path d=\"M18.56 5.44l.94 2.06.94-2.06 2.06-.94-2.06-.94-.94-2.06-.94 2.06-2.06.94zm-11 1L8.5 8.5l.94-2.06 2.06-.94-2.06-.94L8.5 2.5l-.94 2.06-2.06.94zm10 10l.94 2.06.94-2.06 2.06-.94-2.06-.94-.94-2.06-.94 2.06-2.06.94z\"/><path d=\"M17.41 7.96l-1.37-1.37c-.4-.4-.92-.59-1.43-.59-.52 0-1.04.2-1.43.59L10.3 9.45l-7.72 7.72c-.78.78-.78 2.05 0 2.83L4 21.41c.39.39.9.59 1.41.59.51 0 1.02-.2 1.41-.59l7.78-7.78 2.81-2.81c.8-.78.8-2.07 0-2.86zM5.41 20L4 18.59l7.72-7.72 1.47 1.35L5.41 20z\"/>\n",
              "  </svg>\n",
              "      </button>\n",
              "      \n",
              "  <style>\n",
              "    .colab-df-container {\n",
              "      display:flex;\n",
              "      flex-wrap:wrap;\n",
              "      gap: 12px;\n",
              "    }\n",
              "\n",
              "    .colab-df-convert {\n",
              "      background-color: #E8F0FE;\n",
              "      border: none;\n",
              "      border-radius: 50%;\n",
              "      cursor: pointer;\n",
              "      display: none;\n",
              "      fill: #1967D2;\n",
              "      height: 32px;\n",
              "      padding: 0 0 0 0;\n",
              "      width: 32px;\n",
              "    }\n",
              "\n",
              "    .colab-df-convert:hover {\n",
              "      background-color: #E2EBFA;\n",
              "      box-shadow: 0px 1px 2px rgba(60, 64, 67, 0.3), 0px 1px 3px 1px rgba(60, 64, 67, 0.15);\n",
              "      fill: #174EA6;\n",
              "    }\n",
              "\n",
              "    [theme=dark] .colab-df-convert {\n",
              "      background-color: #3B4455;\n",
              "      fill: #D2E3FC;\n",
              "    }\n",
              "\n",
              "    [theme=dark] .colab-df-convert:hover {\n",
              "      background-color: #434B5C;\n",
              "      box-shadow: 0px 1px 3px 1px rgba(0, 0, 0, 0.15);\n",
              "      filter: drop-shadow(0px 1px 2px rgba(0, 0, 0, 0.3));\n",
              "      fill: #FFFFFF;\n",
              "    }\n",
              "  </style>\n",
              "\n",
              "      <script>\n",
              "        const buttonEl =\n",
              "          document.querySelector('#df-383e9f69-4190-47c6-97e9-d34328dbac72 button.colab-df-convert');\n",
              "        buttonEl.style.display =\n",
              "          google.colab.kernel.accessAllowed ? 'block' : 'none';\n",
              "\n",
              "        async function convertToInteractive(key) {\n",
              "          const element = document.querySelector('#df-383e9f69-4190-47c6-97e9-d34328dbac72');\n",
              "          const dataTable =\n",
              "            await google.colab.kernel.invokeFunction('convertToInteractive',\n",
              "                                                     [key], {});\n",
              "          if (!dataTable) return;\n",
              "\n",
              "          const docLinkHtml = 'Like what you see? Visit the ' +\n",
              "            '<a target=\"_blank\" href=https://colab.research.google.com/notebooks/data_table.ipynb>data table notebook</a>'\n",
              "            + ' to learn more about interactive tables.';\n",
              "          element.innerHTML = '';\n",
              "          dataTable['output_type'] = 'display_data';\n",
              "          await google.colab.output.renderOutput(dataTable, element);\n",
              "          const docLink = document.createElement('div');\n",
              "          docLink.innerHTML = docLinkHtml;\n",
              "          element.appendChild(docLink);\n",
              "        }\n",
              "      </script>\n",
              "    </div>\n",
              "  </div>\n",
              "  "
            ]
          },
          "metadata": {},
          "execution_count": 14
        }
      ]
    },
    {
      "cell_type": "markdown",
      "source": [
        "Get Information about Dataset like Total no of rows, Total no of Colunms ,Datatypes of each colunms and Memory Requirement"
      ],
      "metadata": {
        "id": "OSXabGyMUMWE"
      }
    },
    {
      "cell_type": "code",
      "source": [
        "dataset.info()"
      ],
      "metadata": {
        "colab": {
          "base_uri": "https://localhost:8080/"
        },
        "id": "9LYNqfMaUPcd",
        "outputId": "cb96af6a-9bb3-4b41-804e-c04acefabd07"
      },
      "execution_count": null,
      "outputs": [
        {
          "output_type": "stream",
          "name": "stdout",
          "text": [
            "<class 'pandas.core.frame.DataFrame'>\n",
            "Int64Index: 6201 entries, 1 to 6201\n",
            "Data columns (total 5 columns):\n",
            " #   Column        Non-Null Count  Dtype  \n",
            "---  ------        --------------  -----  \n",
            " 0   College Name  6201 non-null   object \n",
            " 1   State         6201 non-null   object \n",
            " 2   Score         6201 non-null   float64\n",
            " 3   Grade         6201 non-null   object \n",
            " 4   Valid Upto    6201 non-null   object \n",
            "dtypes: float64(1), object(4)\n",
            "memory usage: 290.7+ KB\n"
          ]
        }
      ]
    },
    {
      "cell_type": "markdown",
      "source": [
        "Clear unwanted charactristics from state names"
      ],
      "metadata": {
        "id": "y_bxlAQEVl3c"
      }
    },
    {
      "cell_type": "code",
      "source": [
        "dataset.State = dataset['State'].str.strip()\n",
        "dataset.State = dataset['State'].str.lower()\n",
        "dataset.State = dataset['State'].str.capitalize()\n",
        "\n",
        "dataset"
      ],
      "metadata": {
        "colab": {
          "base_uri": "https://localhost:8080/",
          "height": 455
        },
        "id": "KRmuKn-MVpYo",
        "outputId": "ae35b7a5-0a9c-4d9e-84fa-04cea99680a1"
      },
      "execution_count": null,
      "outputs": [
        {
          "output_type": "execute_result",
          "data": {
            "text/plain": [
              "                                            College Name  \\\n",
              "Sr.No                                                      \n",
              "1      Mahatma Gandhi Government College, Rampur, May...   \n",
              "2      Jawaharlal Nehru Rajkeeya Mahavidyalaya, Port ...   \n",
              "3      Dr. B. R. Ambedkar Institute of Technology (Fi...   \n",
              "4      Aditya College of Engineering and Technology K...   \n",
              "5      Aditya Engineering College  Dist. East Godavar...   \n",
              "...                                                  ...   \n",
              "6197   Khandra College,P.O.- Khandra, P.S. Andal, Dis...   \n",
              "6198   Katwa College,Dukbanglow Road, Purba Bardhaman...   \n",
              "6199   NSHM Knowledge Campus, Kolkata - Group of Inst...   \n",
              "6200   SAHEED NURUL ISLAM MAHAVIDYALAYA,GOKULPUR-HARI...   \n",
              "6201   SALESIAN COLLEGE,SONADA PO SONADA DARJEELING,S...   \n",
              "\n",
              "                             State  Score Grade  Valid Upto  \n",
              "Sr.No                                                        \n",
              "1      Andaman and nicobar islands   1.88     C  22-02-2026  \n",
              "2      Andaman and nicobar islands   3.01     A  04-11-2021  \n",
              "3      Andaman and nicobar islands   2.61    B+  02-07-2023  \n",
              "4                   Andhra pradesh   2.68     B  10-07-2021  \n",
              "5                   Andhra pradesh   3.11     A  30-04-2020  \n",
              "...                            ...    ...   ...         ...  \n",
              "6197                   West bengal   1.65     C  01-11-2023  \n",
              "6198                   West bengal   1.65     C  01-11-2023  \n",
              "6199                   West bengal   2.82   B++  29-11-2023  \n",
              "6200                   West bengal   2.19     B  31-03-2024  \n",
              "6201                   West bengal   3.04     A  19-05-2024  \n",
              "\n",
              "[6201 rows x 5 columns]"
            ],
            "text/html": [
              "\n",
              "  <div id=\"df-3835cc6d-07ef-478c-ba49-13e38e71f5e5\">\n",
              "    <div class=\"colab-df-container\">\n",
              "      <div>\n",
              "<style scoped>\n",
              "    .dataframe tbody tr th:only-of-type {\n",
              "        vertical-align: middle;\n",
              "    }\n",
              "\n",
              "    .dataframe tbody tr th {\n",
              "        vertical-align: top;\n",
              "    }\n",
              "\n",
              "    .dataframe thead th {\n",
              "        text-align: right;\n",
              "    }\n",
              "</style>\n",
              "<table border=\"1\" class=\"dataframe\">\n",
              "  <thead>\n",
              "    <tr style=\"text-align: right;\">\n",
              "      <th></th>\n",
              "      <th>College Name</th>\n",
              "      <th>State</th>\n",
              "      <th>Score</th>\n",
              "      <th>Grade</th>\n",
              "      <th>Valid Upto</th>\n",
              "    </tr>\n",
              "    <tr>\n",
              "      <th>Sr.No</th>\n",
              "      <th></th>\n",
              "      <th></th>\n",
              "      <th></th>\n",
              "      <th></th>\n",
              "      <th></th>\n",
              "    </tr>\n",
              "  </thead>\n",
              "  <tbody>\n",
              "    <tr>\n",
              "      <th>1</th>\n",
              "      <td>Mahatma Gandhi Government College, Rampur, May...</td>\n",
              "      <td>Andaman and nicobar islands</td>\n",
              "      <td>1.88</td>\n",
              "      <td>C</td>\n",
              "      <td>22-02-2026</td>\n",
              "    </tr>\n",
              "    <tr>\n",
              "      <th>2</th>\n",
              "      <td>Jawaharlal Nehru Rajkeeya Mahavidyalaya, Port ...</td>\n",
              "      <td>Andaman and nicobar islands</td>\n",
              "      <td>3.01</td>\n",
              "      <td>A</td>\n",
              "      <td>04-11-2021</td>\n",
              "    </tr>\n",
              "    <tr>\n",
              "      <th>3</th>\n",
              "      <td>Dr. B. R. Ambedkar Institute of Technology (Fi...</td>\n",
              "      <td>Andaman and nicobar islands</td>\n",
              "      <td>2.61</td>\n",
              "      <td>B+</td>\n",
              "      <td>02-07-2023</td>\n",
              "    </tr>\n",
              "    <tr>\n",
              "      <th>4</th>\n",
              "      <td>Aditya College of Engineering and Technology K...</td>\n",
              "      <td>Andhra pradesh</td>\n",
              "      <td>2.68</td>\n",
              "      <td>B</td>\n",
              "      <td>10-07-2021</td>\n",
              "    </tr>\n",
              "    <tr>\n",
              "      <th>5</th>\n",
              "      <td>Aditya Engineering College  Dist. East Godavar...</td>\n",
              "      <td>Andhra pradesh</td>\n",
              "      <td>3.11</td>\n",
              "      <td>A</td>\n",
              "      <td>30-04-2020</td>\n",
              "    </tr>\n",
              "    <tr>\n",
              "      <th>...</th>\n",
              "      <td>...</td>\n",
              "      <td>...</td>\n",
              "      <td>...</td>\n",
              "      <td>...</td>\n",
              "      <td>...</td>\n",
              "    </tr>\n",
              "    <tr>\n",
              "      <th>6197</th>\n",
              "      <td>Khandra College,P.O.- Khandra, P.S. Andal, Dis...</td>\n",
              "      <td>West bengal</td>\n",
              "      <td>1.65</td>\n",
              "      <td>C</td>\n",
              "      <td>01-11-2023</td>\n",
              "    </tr>\n",
              "    <tr>\n",
              "      <th>6198</th>\n",
              "      <td>Katwa College,Dukbanglow Road, Purba Bardhaman...</td>\n",
              "      <td>West bengal</td>\n",
              "      <td>1.65</td>\n",
              "      <td>C</td>\n",
              "      <td>01-11-2023</td>\n",
              "    </tr>\n",
              "    <tr>\n",
              "      <th>6199</th>\n",
              "      <td>NSHM Knowledge Campus, Kolkata - Group of Inst...</td>\n",
              "      <td>West bengal</td>\n",
              "      <td>2.82</td>\n",
              "      <td>B++</td>\n",
              "      <td>29-11-2023</td>\n",
              "    </tr>\n",
              "    <tr>\n",
              "      <th>6200</th>\n",
              "      <td>SAHEED NURUL ISLAM MAHAVIDYALAYA,GOKULPUR-HARI...</td>\n",
              "      <td>West bengal</td>\n",
              "      <td>2.19</td>\n",
              "      <td>B</td>\n",
              "      <td>31-03-2024</td>\n",
              "    </tr>\n",
              "    <tr>\n",
              "      <th>6201</th>\n",
              "      <td>SALESIAN COLLEGE,SONADA PO SONADA DARJEELING,S...</td>\n",
              "      <td>West bengal</td>\n",
              "      <td>3.04</td>\n",
              "      <td>A</td>\n",
              "      <td>19-05-2024</td>\n",
              "    </tr>\n",
              "  </tbody>\n",
              "</table>\n",
              "<p>6201 rows × 5 columns</p>\n",
              "</div>\n",
              "      <button class=\"colab-df-convert\" onclick=\"convertToInteractive('df-3835cc6d-07ef-478c-ba49-13e38e71f5e5')\"\n",
              "              title=\"Convert this dataframe to an interactive table.\"\n",
              "              style=\"display:none;\">\n",
              "        \n",
              "  <svg xmlns=\"http://www.w3.org/2000/svg\" height=\"24px\"viewBox=\"0 0 24 24\"\n",
              "       width=\"24px\">\n",
              "    <path d=\"M0 0h24v24H0V0z\" fill=\"none\"/>\n",
              "    <path d=\"M18.56 5.44l.94 2.06.94-2.06 2.06-.94-2.06-.94-.94-2.06-.94 2.06-2.06.94zm-11 1L8.5 8.5l.94-2.06 2.06-.94-2.06-.94L8.5 2.5l-.94 2.06-2.06.94zm10 10l.94 2.06.94-2.06 2.06-.94-2.06-.94-.94-2.06-.94 2.06-2.06.94z\"/><path d=\"M17.41 7.96l-1.37-1.37c-.4-.4-.92-.59-1.43-.59-.52 0-1.04.2-1.43.59L10.3 9.45l-7.72 7.72c-.78.78-.78 2.05 0 2.83L4 21.41c.39.39.9.59 1.41.59.51 0 1.02-.2 1.41-.59l7.78-7.78 2.81-2.81c.8-.78.8-2.07 0-2.86zM5.41 20L4 18.59l7.72-7.72 1.47 1.35L5.41 20z\"/>\n",
              "  </svg>\n",
              "      </button>\n",
              "      \n",
              "  <style>\n",
              "    .colab-df-container {\n",
              "      display:flex;\n",
              "      flex-wrap:wrap;\n",
              "      gap: 12px;\n",
              "    }\n",
              "\n",
              "    .colab-df-convert {\n",
              "      background-color: #E8F0FE;\n",
              "      border: none;\n",
              "      border-radius: 50%;\n",
              "      cursor: pointer;\n",
              "      display: none;\n",
              "      fill: #1967D2;\n",
              "      height: 32px;\n",
              "      padding: 0 0 0 0;\n",
              "      width: 32px;\n",
              "    }\n",
              "\n",
              "    .colab-df-convert:hover {\n",
              "      background-color: #E2EBFA;\n",
              "      box-shadow: 0px 1px 2px rgba(60, 64, 67, 0.3), 0px 1px 3px 1px rgba(60, 64, 67, 0.15);\n",
              "      fill: #174EA6;\n",
              "    }\n",
              "\n",
              "    [theme=dark] .colab-df-convert {\n",
              "      background-color: #3B4455;\n",
              "      fill: #D2E3FC;\n",
              "    }\n",
              "\n",
              "    [theme=dark] .colab-df-convert:hover {\n",
              "      background-color: #434B5C;\n",
              "      box-shadow: 0px 1px 3px 1px rgba(0, 0, 0, 0.15);\n",
              "      filter: drop-shadow(0px 1px 2px rgba(0, 0, 0, 0.3));\n",
              "      fill: #FFFFFF;\n",
              "    }\n",
              "  </style>\n",
              "\n",
              "      <script>\n",
              "        const buttonEl =\n",
              "          document.querySelector('#df-3835cc6d-07ef-478c-ba49-13e38e71f5e5 button.colab-df-convert');\n",
              "        buttonEl.style.display =\n",
              "          google.colab.kernel.accessAllowed ? 'block' : 'none';\n",
              "\n",
              "        async function convertToInteractive(key) {\n",
              "          const element = document.querySelector('#df-3835cc6d-07ef-478c-ba49-13e38e71f5e5');\n",
              "          const dataTable =\n",
              "            await google.colab.kernel.invokeFunction('convertToInteractive',\n",
              "                                                     [key], {});\n",
              "          if (!dataTable) return;\n",
              "\n",
              "          const docLinkHtml = 'Like what you see? Visit the ' +\n",
              "            '<a target=\"_blank\" href=https://colab.research.google.com/notebooks/data_table.ipynb>data table notebook</a>'\n",
              "            + ' to learn more about interactive tables.';\n",
              "          element.innerHTML = '';\n",
              "          dataTable['output_type'] = 'display_data';\n",
              "          await google.colab.output.renderOutput(dataTable, element);\n",
              "          const docLink = document.createElement('div');\n",
              "          docLink.innerHTML = docLinkHtml;\n",
              "          element.appendChild(docLink);\n",
              "        }\n",
              "      </script>\n",
              "    </div>\n",
              "  </div>\n",
              "  "
            ]
          },
          "metadata": {},
          "execution_count": 16
        }
      ]
    },
    {
      "cell_type": "markdown",
      "source": [
        "Set datatype in right format"
      ],
      "metadata": {
        "id": "doAhB2pRV52v"
      }
    },
    {
      "cell_type": "code",
      "source": [
        "dataset.validity = pd.to_datetime(dataset['Valid Upto'])\n",
        "dataset.Score = dataset['Score'].astype('float')\n",
        "dataset.dtypes"
      ],
      "metadata": {
        "colab": {
          "base_uri": "https://localhost:8080/"
        },
        "id": "_VpKeuXOV80M",
        "outputId": "5aa272d2-c14d-49ec-e661-9b75ff70e7d2"
      },
      "execution_count": null,
      "outputs": [
        {
          "output_type": "stream",
          "name": "stderr",
          "text": [
            "/usr/local/lib/python3.7/dist-packages/ipykernel_launcher.py:1: UserWarning: Pandas doesn't allow columns to be created via a new attribute name - see https://pandas.pydata.org/pandas-docs/stable/indexing.html#attribute-access\n",
            "  \"\"\"Entry point for launching an IPython kernel.\n"
          ]
        },
        {
          "output_type": "execute_result",
          "data": {
            "text/plain": [
              "College Name     object\n",
              "State            object\n",
              "Score           float64\n",
              "Grade            object\n",
              "Valid Upto       object\n",
              "dtype: object"
            ]
          },
          "metadata": {},
          "execution_count": 17
        }
      ]
    },
    {
      "cell_type": "code",
      "source": [
        "# description of data\n",
        "print(\"Count : \" , dataset['College Name'].size)\n",
        "print(\"Max Score : \" , dataset['Score'].max())\n",
        "print(\"Min Score : \", dataset['Score'].min())"
      ],
      "metadata": {
        "colab": {
          "base_uri": "https://localhost:8080/"
        },
        "id": "pBopPEROaGLZ",
        "outputId": "9afd82eb-9318-4300-a034-0bade7d68f64"
      },
      "execution_count": null,
      "outputs": [
        {
          "output_type": "stream",
          "name": "stdout",
          "text": [
            "Count :  6201\n",
            "Max Score :  3.86\n",
            "Min Score :  1.51\n"
          ]
        }
      ]
    },
    {
      "cell_type": "markdown",
      "source": [
        "**Data Analysis**"
      ],
      "metadata": {
        "id": "s-pYbYb1aQmt"
      }
    },
    {
      "cell_type": "code",
      "source": [
        "'''\n",
        "Analyze Data \n",
        "Count University by Grade\n",
        "Plot a histogram\n",
        "'''\n",
        "grades = dataset['Grade'].unique()\n",
        "grades_val = []\n",
        "\n",
        "a = np.array(grades)\n",
        "grades = a[~np.isin(a, 'A ')]\n",
        "\n",
        "for i in grades:\n",
        "    grades_val.append(dataset[dataset['Grade']==i].all(1).count() )\n",
        "print(grades , grades_val)"
      ],
      "metadata": {
        "colab": {
          "base_uri": "https://localhost:8080/"
        },
        "id": "UyyEdTpjaSuh",
        "outputId": "19f25119-be52-497c-ca34-53edcf7f2502"
      },
      "execution_count": null,
      "outputs": [
        {
          "output_type": "stream",
          "name": "stdout",
          "text": [
            "['C' 'A' 'B+' 'B' 'A+' 'B++' 'A++'] [642, 1138, 916, 2528, 234, 689, 51]\n"
          ]
        }
      ]
    },
    {
      "cell_type": "code",
      "source": [
        "plt.bar(grades , grades_val)"
      ],
      "metadata": {
        "colab": {
          "base_uri": "https://localhost:8080/",
          "height": 282
        },
        "id": "co9yokIrabi-",
        "outputId": "1d0850d6-e730-45b9-b09b-89bf9ac191fa"
      },
      "execution_count": null,
      "outputs": [
        {
          "output_type": "execute_result",
          "data": {
            "text/plain": [
              "<BarContainer object of 7 artists>"
            ]
          },
          "metadata": {},
          "execution_count": 20
        },
        {
          "output_type": "display_data",
          "data": {
            "text/plain": [
              "<Figure size 432x288 with 1 Axes>"
            ],
            "image/png": "[encoded data removed]"
          },
          "metadata": {
            "needs_background": "light"
          }
        }
      ]
    },
    {
      "cell_type": "code",
      "source": [
        "#count plot of grades distribution\n",
        "grades = dataset['Grade']\n",
        "grades_val = []\n",
        "\n",
        "a = np.array(grades)\n",
        "grades = a[~np.isin(a, 'A ')]\n",
        "\n",
        "plt.figure(figsize=(8,8))\n",
        "sea.countplot(grades)\n",
        "plt.plot()"
      ],
      "metadata": {
        "colab": {
          "base_uri": "https://localhost:8080/",
          "height": 555
        },
        "id": "7ffvVaPkaij0",
        "outputId": "82d305b0-21c5-4159-ac62-f52a9d446457"
      },
      "execution_count": null,
      "outputs": [
        {
          "output_type": "stream",
          "name": "stderr",
          "text": [
            "/usr/local/lib/python3.7/dist-packages/seaborn/_decorators.py:43: FutureWarning: Pass the following variable as a keyword arg: x. From version 0.12, the only valid positional argument will be `data`, and passing other arguments without an explicit keyword will result in an error or misinterpretation.\n",
            "  FutureWarning\n"
          ]
        },
        {
          "output_type": "execute_result",
          "data": {
            "text/plain": [
              "[]"
            ]
          },
          "metadata": {},
          "execution_count": 21
        },
        {
          "output_type": "display_data",
          "data": {
            "text/plain": [
              "<Figure size 576x576 with 1 Axes>"
            ],
            "image/png": "[encoded data removed]"
          },
          "metadata": {
            "needs_background": "light"
          }
        }
      ]
    },
    {
      "cell_type": "code",
      "source": [
        "#relplot\n",
        "grades = dataset['Grade']\n",
        "grades_val = []\n",
        "\n",
        "a = np.array(grades)\n",
        "grades = a[~np.isin(a, 'A ')]\n",
        "sea.relplot(data=dataset, x=\"Grade\", y=\"Score\", hue=\"Grade\")"
      ],
      "metadata": {
        "colab": {
          "base_uri": "https://localhost:8080/",
          "height": 386
        },
        "id": "JQHxmTecas6A",
        "outputId": "8dee84cf-335d-4eb2-fa69-f721348f5df8"
      },
      "execution_count": null,
      "outputs": [
        {
          "output_type": "execute_result",
          "data": {
            "text/plain": [
              "<seaborn.axisgrid.FacetGrid at 0x7fb7627380d0>"
            ]
          },
          "metadata": {},
          "execution_count": 22
        },
        {
          "output_type": "display_data",
          "data": {
            "text/plain": [
              "<Figure size 419.625x360 with 1 Axes>"
            ],
            "image/png": "[encoded data removed]"
          },
          "metadata": {
            "needs_background": "light"
          }
        }
      ]
    },
    {
      "cell_type": "code",
      "source": [
        "#COUNT UNIVERSITY BY SCORE\n",
        "dataset['Score'].value_counts()"
      ],
      "metadata": {
        "colab": {
          "base_uri": "https://localhost:8080/"
        },
        "id": "UASGa-QNa0sT",
        "outputId": "0ef703a1-b907-4bee-d311-fb53c9ab60eb"
      },
      "execution_count": null,
      "outputs": [
        {
          "output_type": "execute_result",
          "data": {
            "text/plain": [
              "3.02    109\n",
              "3.01     96\n",
              "2.52     86\n",
              "2.51     83\n",
              "2.53     80\n",
              "       ... \n",
              "3.69      1\n",
              "3.78      1\n",
              "3.80      1\n",
              "3.86      1\n",
              "3.77      1\n",
              "Name: Score, Length: 232, dtype: int64"
            ]
          },
          "metadata": {},
          "execution_count": 23
        }
      ]
    },
    {
      "cell_type": "code",
      "source": [
        "#COUNT UNIVERSITY BY SCORE\n",
        "dataset.hist(figsize=(7,7))\n",
        "plt.title('Score Distribution')\n",
        "plt.xlabel('Score')\n",
        "plt.ylabel('Number of colleges')\n",
        "plt.show()"
      ],
      "metadata": {
        "colab": {
          "base_uri": "https://localhost:8080/",
          "height": 458
        },
        "id": "sU8njQFJa4_R",
        "outputId": "b9beb76b-4fcd-4f49-b4ca-e32847d78d26"
      },
      "execution_count": null,
      "outputs": [
        {
          "output_type": "display_data",
          "data": {
            "text/plain": [
              "<Figure size 504x504 with 1 Axes>"
            ],
            "image/png": "[encoded data removed]"
          },
          "metadata": {
            "needs_background": "light"
          }
        }
      ]
    },
    {
      "cell_type": "code",
      "source": [
        "#No. of. college distribution in each state\n",
        "plt.figure(figsize=(10,5))\n",
        "sea.countplot(dataset['State'])\n",
        "plt.xticks(rotation = 90)\n",
        "plt.plot()"
      ],
      "metadata": {
        "colab": {
          "base_uri": "https://localhost:8080/",
          "height": 544
        },
        "id": "mrda4OJUbog4",
        "outputId": "87a7f578-c3b5-4257-eea9-9d81f82da222"
      },
      "execution_count": null,
      "outputs": [
        {
          "output_type": "stream",
          "name": "stderr",
          "text": [
            "/usr/local/lib/python3.7/dist-packages/seaborn/_decorators.py:43: FutureWarning: Pass the following variable as a keyword arg: x. From version 0.12, the only valid positional argument will be `data`, and passing other arguments without an explicit keyword will result in an error or misinterpretation.\n",
            "  FutureWarning\n"
          ]
        },
        {
          "output_type": "execute_result",
          "data": {
            "text/plain": [
              "[]"
            ]
          },
          "metadata": {},
          "execution_count": 25
        },
        {
          "output_type": "display_data",
          "data": {
            "text/plain": [
              "<Figure size 720x360 with 1 Axes>"
            ],
            "image/png": "[encoded data removed]"
          },
          "metadata": {
            "needs_background": "light"
          }
        }
      ]
    },
    {
      "cell_type": "markdown",
      "source": [
        "Get overall Statistics about the dataset"
      ],
      "metadata": {
        "id": "Ekqqi4ipUYZy"
      }
    },
    {
      "cell_type": "code",
      "source": [
        "dataset.describe(include=\"all\")"
      ],
      "metadata": {
        "colab": {
          "base_uri": "https://localhost:8080/",
          "height": 394
        },
        "id": "omU0bU--dQyh",
        "outputId": "07d29339-a4e0-415f-cb4f-6ccd18698757"
      },
      "execution_count": null,
      "outputs": [
        {
          "output_type": "execute_result",
          "data": {
            "text/plain": [
              "                                             College Name        State  \\\n",
              "count                                                6201         6201   \n",
              "unique                                               6197           35   \n",
              "top     Government Chandra Vijay College, Dindori –481...  Maharashtra   \n",
              "freq                                                    2         1520   \n",
              "mean                                                  NaN          NaN   \n",
              "std                                                   NaN          NaN   \n",
              "min                                                   NaN          NaN   \n",
              "25%                                                   NaN          NaN   \n",
              "50%                                                   NaN          NaN   \n",
              "75%                                                   NaN          NaN   \n",
              "max                                                   NaN          NaN   \n",
              "\n",
              "              Score Grade  Valid Upto  \n",
              "count   6201.000000  6201        6201  \n",
              "unique          NaN     8         148  \n",
              "top             NaN     B  29-10-2022  \n",
              "freq            NaN  2528         406  \n",
              "mean       2.564865   NaN         NaN  \n",
              "std        0.470667   NaN         NaN  \n",
              "min        1.510000   NaN         NaN  \n",
              "25%        2.200000   NaN         NaN  \n",
              "50%        2.550000   NaN         NaN  \n",
              "75%        2.910000   NaN         NaN  \n",
              "max        3.860000   NaN         NaN  "
            ],
            "text/html": [
              "\n",
              "  <div id=\"df-d7569abd-0506-4c11-b0a1-13be10946ab8\">\n",
              "    <div class=\"colab-df-container\">\n",
              "      <div>\n",
              "<style scoped>\n",
              "    .dataframe tbody tr th:only-of-type {\n",
              "        vertical-align: middle;\n",
              "    }\n",
              "\n",
              "    .dataframe tbody tr th {\n",
              "        vertical-align: top;\n",
              "    }\n",
              "\n",
              "    .dataframe thead th {\n",
              "        text-align: right;\n",
              "    }\n",
              "</style>\n",
              "<table border=\"1\" class=\"dataframe\">\n",
              "  <thead>\n",
              "    <tr style=\"text-align: right;\">\n",
              "      <th></th>\n",
              "      <th>College Name</th>\n",
              "      <th>State</th>\n",
              "      <th>Score</th>\n",
              "      <th>Grade</th>\n",
              "      <th>Valid Upto</th>\n",
              "    </tr>\n",
              "  </thead>\n",
              "  <tbody>\n",
              "    <tr>\n",
              "      <th>count</th>\n",
              "      <td>6201</td>\n",
              "      <td>6201</td>\n",
              "      <td>6201.000000</td>\n",
              "      <td>6201</td>\n",
              "      <td>6201</td>\n",
              "    </tr>\n",
              "    <tr>\n",
              "      <th>unique</th>\n",
              "      <td>6197</td>\n",
              "      <td>35</td>\n",
              "      <td>NaN</td>\n",
              "      <td>8</td>\n",
              "      <td>148</td>\n",
              "    </tr>\n",
              "    <tr>\n",
              "      <th>top</th>\n",
              "      <td>Government Chandra Vijay College, Dindori –481...</td>\n",
              "      <td>Maharashtra</td>\n",
              "      <td>NaN</td>\n",
              "      <td>B</td>\n",
              "      <td>29-10-2022</td>\n",
              "    </tr>\n",
              "    <tr>\n",
              "      <th>freq</th>\n",
              "      <td>2</td>\n",
              "      <td>1520</td>\n",
              "      <td>NaN</td>\n",
              "      <td>2528</td>\n",
              "      <td>406</td>\n",
              "    </tr>\n",
              "    <tr>\n",
              "      <th>mean</th>\n",
              "      <td>NaN</td>\n",
              "      <td>NaN</td>\n",
              "      <td>2.564865</td>\n",
              "      <td>NaN</td>\n",
              "      <td>NaN</td>\n",
              "    </tr>\n",
              "    <tr>\n",
              "      <th>std</th>\n",
              "      <td>NaN</td>\n",
              "      <td>NaN</td>\n",
              "      <td>0.470667</td>\n",
              "      <td>NaN</td>\n",
              "      <td>NaN</td>\n",
              "    </tr>\n",
              "    <tr>\n",
              "      <th>min</th>\n",
              "      <td>NaN</td>\n",
              "      <td>NaN</td>\n",
              "      <td>1.510000</td>\n",
              "      <td>NaN</td>\n",
              "      <td>NaN</td>\n",
              "    </tr>\n",
              "    <tr>\n",
              "      <th>25%</th>\n",
              "      <td>NaN</td>\n",
              "      <td>NaN</td>\n",
              "      <td>2.200000</td>\n",
              "      <td>NaN</td>\n",
              "      <td>NaN</td>\n",
              "    </tr>\n",
              "    <tr>\n",
              "      <th>50%</th>\n",
              "      <td>NaN</td>\n",
              "      <td>NaN</td>\n",
              "      <td>2.550000</td>\n",
              "      <td>NaN</td>\n",
              "      <td>NaN</td>\n",
              "    </tr>\n",
              "    <tr>\n",
              "      <th>75%</th>\n",
              "      <td>NaN</td>\n",
              "      <td>NaN</td>\n",
              "      <td>2.910000</td>\n",
              "      <td>NaN</td>\n",
              "      <td>NaN</td>\n",
              "    </tr>\n",
              "    <tr>\n",
              "      <th>max</th>\n",
              "      <td>NaN</td>\n",
              "      <td>NaN</td>\n",
              "      <td>3.860000</td>\n",
              "      <td>NaN</td>\n",
              "      <td>NaN</td>\n",
              "    </tr>\n",
              "  </tbody>\n",
              "</table>\n",
              "</div>\n",
              "      <button class=\"colab-df-convert\" onclick=\"convertToInteractive('df-d7569abd-0506-4c11-b0a1-13be10946ab8')\"\n",
              "              title=\"Convert this dataframe to an interactive table.\"\n",
              "              style=\"display:none;\">\n",
              "        \n",
              "  <svg xmlns=\"http://www.w3.org/2000/svg\" height=\"24px\"viewBox=\"0 0 24 24\"\n",
              "       width=\"24px\">\n",
              "    <path d=\"M0 0h24v24H0V0z\" fill=\"none\"/>\n",
              "    <path d=\"M18.56 5.44l.94 2.06.94-2.06 2.06-.94-2.06-.94-.94-2.06-.94 2.06-2.06.94zm-11 1L8.5 8.5l.94-2.06 2.06-.94-2.06-.94L8.5 2.5l-.94 2.06-2.06.94zm10 10l.94 2.06.94-2.06 2.06-.94-2.06-.94-.94-2.06-.94 2.06-2.06.94z\"/><path d=\"M17.41 7.96l-1.37-1.37c-.4-.4-.92-.59-1.43-.59-.52 0-1.04.2-1.43.59L10.3 9.45l-7.72 7.72c-.78.78-.78 2.05 0 2.83L4 21.41c.39.39.9.59 1.41.59.51 0 1.02-.2 1.41-.59l7.78-7.78 2.81-2.81c.8-.78.8-2.07 0-2.86zM5.41 20L4 18.59l7.72-7.72 1.47 1.35L5.41 20z\"/>\n",
              "  </svg>\n",
              "      </button>\n",
              "      \n",
              "  <style>\n",
              "    .colab-df-container {\n",
              "      display:flex;\n",
              "      flex-wrap:wrap;\n",
              "      gap: 12px;\n",
              "    }\n",
              "\n",
              "    .colab-df-convert {\n",
              "      background-color: #E8F0FE;\n",
              "      border: none;\n",
              "      border-radius: 50%;\n",
              "      cursor: pointer;\n",
              "      display: none;\n",
              "      fill: #1967D2;\n",
              "      height: 32px;\n",
              "      padding: 0 0 0 0;\n",
              "      width: 32px;\n",
              "    }\n",
              "\n",
              "    .colab-df-convert:hover {\n",
              "      background-color: #E2EBFA;\n",
              "      box-shadow: 0px 1px 2px rgba(60, 64, 67, 0.3), 0px 1px 3px 1px rgba(60, 64, 67, 0.15);\n",
              "      fill: #174EA6;\n",
              "    }\n",
              "\n",
              "    [theme=dark] .colab-df-convert {\n",
              "      background-color: #3B4455;\n",
              "      fill: #D2E3FC;\n",
              "    }\n",
              "\n",
              "    [theme=dark] .colab-df-convert:hover {\n",
              "      background-color: #434B5C;\n",
              "      box-shadow: 0px 1px 3px 1px rgba(0, 0, 0, 0.15);\n",
              "      filter: drop-shadow(0px 1px 2px rgba(0, 0, 0, 0.3));\n",
              "      fill: #FFFFFF;\n",
              "    }\n",
              "  </style>\n",
              "\n",
              "      <script>\n",
              "        const buttonEl =\n",
              "          document.querySelector('#df-d7569abd-0506-4c11-b0a1-13be10946ab8 button.colab-df-convert');\n",
              "        buttonEl.style.display =\n",
              "          google.colab.kernel.accessAllowed ? 'block' : 'none';\n",
              "\n",
              "        async function convertToInteractive(key) {\n",
              "          const element = document.querySelector('#df-d7569abd-0506-4c11-b0a1-13be10946ab8');\n",
              "          const dataTable =\n",
              "            await google.colab.kernel.invokeFunction('convertToInteractive',\n",
              "                                                     [key], {});\n",
              "          if (!dataTable) return;\n",
              "\n",
              "          const docLinkHtml = 'Like what you see? Visit the ' +\n",
              "            '<a target=\"_blank\" href=https://colab.research.google.com/notebooks/data_table.ipynb>data table notebook</a>'\n",
              "            + ' to learn more about interactive tables.';\n",
              "          element.innerHTML = '';\n",
              "          dataTable['output_type'] = 'display_data';\n",
              "          await google.colab.output.renderOutput(dataTable, element);\n",
              "          const docLink = document.createElement('div');\n",
              "          docLink.innerHTML = docLinkHtml;\n",
              "          element.appendChild(docLink);\n",
              "        }\n",
              "      </script>\n",
              "    </div>\n",
              "  </div>\n",
              "  "
            ]
          },
          "metadata": {},
          "execution_count": 26
        }
      ]
    },
    {
      "cell_type": "code",
      "source": [
        "#Statistic of Score \n",
        "dataset['Score'].describe()"
      ],
      "metadata": {
        "colab": {
          "base_uri": "https://localhost:8080/"
        },
        "id": "4kpZ7hKQeDRk",
        "outputId": "fcc96dcb-22b2-4700-fa13-7c9e75863f20"
      },
      "execution_count": null,
      "outputs": [
        {
          "output_type": "execute_result",
          "data": {
            "text/plain": [
              "count    6201.000000\n",
              "mean        2.564865\n",
              "std         0.470667\n",
              "min         1.510000\n",
              "25%         2.200000\n",
              "50%         2.550000\n",
              "75%         2.910000\n",
              "max         3.860000\n",
              "Name: Score, dtype: float64"
            ]
          },
          "metadata": {},
          "execution_count": 27
        }
      ]
    },
    {
      "cell_type": "markdown",
      "source": [
        "From the above data ,we can analyse that NAAC Score National Average - 2.56.\n",
        "According to the official NAAC website, the above score in grade is B+."
      ],
      "metadata": {
        "id": "9bfBF4DNeL3K"
      }
    },
    {
      "cell_type": "code",
      "source": [
        "#Finding average\n",
        "dataset['Score'] = dataset['Score'].astype(float)\n",
        "average_score = dataset['Score'].mean()\n",
        "average_score"
      ],
      "metadata": {
        "colab": {
          "base_uri": "https://localhost:8080/"
        },
        "id": "4FK-uFRYhZaO",
        "outputId": "8cdc398f-8dcd-4684-c3c8-333f58335fd7"
      },
      "execution_count": null,
      "outputs": [
        {
          "output_type": "execute_result",
          "data": {
            "text/plain": [
              "2.5648653442993066"
            ]
          },
          "metadata": {},
          "execution_count": 28
        }
      ]
    },
    {
      "cell_type": "markdown",
      "source": [
        "Percentage of institutions that scored less than the national Average."
      ],
      "metadata": {
        "id": "qjDkTPCHhDpO"
      }
    },
    {
      "cell_type": "code",
      "source": [
        "below_average = dataset.loc[dataset['Score'] < average_score].shape[0]\n",
        "\n",
        "percentage_below_average = (below_average / dataset.shape[0]) * 100\n",
        "percentage_below_average = round(percentage_below_average)\n",
        "percentage_below_average"
      ],
      "metadata": {
        "colab": {
          "base_uri": "https://localhost:8080/"
        },
        "id": "hGjJ2DFegRN8",
        "outputId": "a85f795e-6c35-4c5c-e623-a3dcb8a97c50"
      },
      "execution_count": null,
      "outputs": [
        {
          "output_type": "execute_result",
          "data": {
            "text/plain": [
              "51"
            ]
          },
          "metadata": {},
          "execution_count": 29
        }
      ]
    },
    {
      "cell_type": "markdown",
      "source": [
        "51% of the instituions have naac accreditation below national Average"
      ],
      "metadata": {
        "id": "AaK_QVvthoGe"
      }
    },
    {
      "cell_type": "code",
      "source": [
        "#Grouping Colleges based on States and calculating the percentage of institutions accreditated below national average.\n",
        "\n",
        "states = dataset.groupby('State')\n",
        "#Karnataka State\n",
        "ka_state = states.get_group('Karnataka')\n",
        "ka_state.head()"
      ],
      "metadata": {
        "colab": {
          "base_uri": "https://localhost:8080/",
          "height": 237
        },
        "id": "SrijZS1Fhom9",
        "outputId": "0c44cd45-32a1-4731-a3df-5e81ba2c6860"
      },
      "execution_count": null,
      "outputs": [
        {
          "output_type": "execute_result",
          "data": {
            "text/plain": [
              "                                            College Name      State  Score  \\\n",
              "Sr.No                                                                        \n",
              "1447   SIDDHARTH ARTS AND COMMERCE DEGREE COLLEGE BID...  Karnataka   2.38   \n",
              "1448   VALABALLARY CHANNABASAVESHWAR EDUCATION SOCIET...  Karnataka   2.81   \n",
              "1449   A. N. Varadarajulu First Grade College,  Gorur...  Karnataka   2.30   \n",
              "1450   Acharya Pathasala College of Commerce, Bangalo...  Karnataka   2.16   \n",
              "1451   Acharya Pathasala Evening College of Arts and ...  Karnataka   2.51   \n",
              "\n",
              "      Grade  Valid Upto  \n",
              "Sr.No                    \n",
              "1447      B  27-06-2027  \n",
              "1448    B++  29-11-2026  \n",
              "1449      B  24-05-2021  \n",
              "1450      B  24-05-2021  \n",
              "1451      B  14-11-2020  "
            ],
            "text/html": [
              "\n",
              "  <div id=\"df-69bba647-2514-492b-9342-92756ad28d46\">\n",
              "    <div class=\"colab-df-container\">\n",
              "      <div>\n",
              "<style scoped>\n",
              "    .dataframe tbody tr th:only-of-type {\n",
              "        vertical-align: middle;\n",
              "    }\n",
              "\n",
              "    .dataframe tbody tr th {\n",
              "        vertical-align: top;\n",
              "    }\n",
              "\n",
              "    .dataframe thead th {\n",
              "        text-align: right;\n",
              "    }\n",
              "</style>\n",
              "<table border=\"1\" class=\"dataframe\">\n",
              "  <thead>\n",
              "    <tr style=\"text-align: right;\">\n",
              "      <th></th>\n",
              "      <th>College Name</th>\n",
              "      <th>State</th>\n",
              "      <th>Score</th>\n",
              "      <th>Grade</th>\n",
              "      <th>Valid Upto</th>\n",
              "    </tr>\n",
              "    <tr>\n",
              "      <th>Sr.No</th>\n",
              "      <th></th>\n",
              "      <th></th>\n",
              "      <th></th>\n",
              "      <th></th>\n",
              "      <th></th>\n",
              "    </tr>\n",
              "  </thead>\n",
              "  <tbody>\n",
              "    <tr>\n",
              "      <th>1447</th>\n",
              "      <td>SIDDHARTH ARTS AND COMMERCE DEGREE COLLEGE BID...</td>\n",
              "      <td>Karnataka</td>\n",
              "      <td>2.38</td>\n",
              "      <td>B</td>\n",
              "      <td>27-06-2027</td>\n",
              "    </tr>\n",
              "    <tr>\n",
              "      <th>1448</th>\n",
              "      <td>VALABALLARY CHANNABASAVESHWAR EDUCATION SOCIET...</td>\n",
              "      <td>Karnataka</td>\n",
              "      <td>2.81</td>\n",
              "      <td>B++</td>\n",
              "      <td>29-11-2026</td>\n",
              "    </tr>\n",
              "    <tr>\n",
              "      <th>1449</th>\n",
              "      <td>A. N. Varadarajulu First Grade College,  Gorur...</td>\n",
              "      <td>Karnataka</td>\n",
              "      <td>2.30</td>\n",
              "      <td>B</td>\n",
              "      <td>24-05-2021</td>\n",
              "    </tr>\n",
              "    <tr>\n",
              "      <th>1450</th>\n",
              "      <td>Acharya Pathasala College of Commerce, Bangalo...</td>\n",
              "      <td>Karnataka</td>\n",
              "      <td>2.16</td>\n",
              "      <td>B</td>\n",
              "      <td>24-05-2021</td>\n",
              "    </tr>\n",
              "    <tr>\n",
              "      <th>1451</th>\n",
              "      <td>Acharya Pathasala Evening College of Arts and ...</td>\n",
              "      <td>Karnataka</td>\n",
              "      <td>2.51</td>\n",
              "      <td>B</td>\n",
              "      <td>14-11-2020</td>\n",
              "    </tr>\n",
              "  </tbody>\n",
              "</table>\n",
              "</div>\n",
              "      <button class=\"colab-df-convert\" onclick=\"convertToInteractive('df-69bba647-2514-492b-9342-92756ad28d46')\"\n",
              "              title=\"Convert this dataframe to an interactive table.\"\n",
              "              style=\"display:none;\">\n",
              "        \n",
              "  <svg xmlns=\"http://www.w3.org/2000/svg\" height=\"24px\"viewBox=\"0 0 24 24\"\n",
              "       width=\"24px\">\n",
              "    <path d=\"M0 0h24v24H0V0z\" fill=\"none\"/>\n",
              "    <path d=\"M18.56 5.44l.94 2.06.94-2.06 2.06-.94-2.06-.94-.94-2.06-.94 2.06-2.06.94zm-11 1L8.5 8.5l.94-2.06 2.06-.94-2.06-.94L8.5 2.5l-.94 2.06-2.06.94zm10 10l.94 2.06.94-2.06 2.06-.94-2.06-.94-.94-2.06-.94 2.06-2.06.94z\"/><path d=\"M17.41 7.96l-1.37-1.37c-.4-.4-.92-.59-1.43-.59-.52 0-1.04.2-1.43.59L10.3 9.45l-7.72 7.72c-.78.78-.78 2.05 0 2.83L4 21.41c.39.39.9.59 1.41.59.51 0 1.02-.2 1.41-.59l7.78-7.78 2.81-2.81c.8-.78.8-2.07 0-2.86zM5.41 20L4 18.59l7.72-7.72 1.47 1.35L5.41 20z\"/>\n",
              "  </svg>\n",
              "      </button>\n",
              "      \n",
              "  <style>\n",
              "    .colab-df-container {\n",
              "      display:flex;\n",
              "      flex-wrap:wrap;\n",
              "      gap: 12px;\n",
              "    }\n",
              "\n",
              "    .colab-df-convert {\n",
              "      background-color: #E8F0FE;\n",
              "      border: none;\n",
              "      border-radius: 50%;\n",
              "      cursor: pointer;\n",
              "      display: none;\n",
              "      fill: #1967D2;\n",
              "      height: 32px;\n",
              "      padding: 0 0 0 0;\n",
              "      width: 32px;\n",
              "    }\n",
              "\n",
              "    .colab-df-convert:hover {\n",
              "      background-color: #E2EBFA;\n",
              "      box-shadow: 0px 1px 2px rgba(60, 64, 67, 0.3), 0px 1px 3px 1px rgba(60, 64, 67, 0.15);\n",
              "      fill: #174EA6;\n",
              "    }\n",
              "\n",
              "    [theme=dark] .colab-df-convert {\n",
              "      background-color: #3B4455;\n",
              "      fill: #D2E3FC;\n",
              "    }\n",
              "\n",
              "    [theme=dark] .colab-df-convert:hover {\n",
              "      background-color: #434B5C;\n",
              "      box-shadow: 0px 1px 3px 1px rgba(0, 0, 0, 0.15);\n",
              "      filter: drop-shadow(0px 1px 2px rgba(0, 0, 0, 0.3));\n",
              "      fill: #FFFFFF;\n",
              "    }\n",
              "  </style>\n",
              "\n",
              "      <script>\n",
              "        const buttonEl =\n",
              "          document.querySelector('#df-69bba647-2514-492b-9342-92756ad28d46 button.colab-df-convert');\n",
              "        buttonEl.style.display =\n",
              "          google.colab.kernel.accessAllowed ? 'block' : 'none';\n",
              "\n",
              "        async function convertToInteractive(key) {\n",
              "          const element = document.querySelector('#df-69bba647-2514-492b-9342-92756ad28d46');\n",
              "          const dataTable =\n",
              "            await google.colab.kernel.invokeFunction('convertToInteractive',\n",
              "                                                     [key], {});\n",
              "          if (!dataTable) return;\n",
              "\n",
              "          const docLinkHtml = 'Like what you see? Visit the ' +\n",
              "            '<a target=\"_blank\" href=https://colab.research.google.com/notebooks/data_table.ipynb>data table notebook</a>'\n",
              "            + ' to learn more about interactive tables.';\n",
              "          element.innerHTML = '';\n",
              "          dataTable['output_type'] = 'display_data';\n",
              "          await google.colab.output.renderOutput(dataTable, element);\n",
              "          const docLink = document.createElement('div');\n",
              "          docLink.innerHTML = docLinkHtml;\n",
              "          element.appendChild(docLink);\n",
              "        }\n",
              "      </script>\n",
              "    </div>\n",
              "  </div>\n",
              "  "
            ]
          },
          "metadata": {},
          "execution_count": 30
        }
      ]
    },
    {
      "cell_type": "code",
      "source": [
        "#Removing spaces and maintaining unified alphabet cases\n",
        "\n",
        "def string_strip(x):\n",
        "    x = x.lower()\n",
        "    x=x.capitalize()\n",
        "    x=x.strip()\n",
        "    return x\n",
        "\n",
        "dataset['State'] =dataset['State'].apply(string_strip)"
      ],
      "metadata": {
        "id": "b2Si2phxiUWv"
      },
      "execution_count": null,
      "outputs": []
    },
    {
      "cell_type": "code",
      "source": [
        "all_states = dataset['State'].unique()\n",
        "all_states"
      ],
      "metadata": {
        "colab": {
          "base_uri": "https://localhost:8080/"
        },
        "id": "xosRMiKZibWy",
        "outputId": "ab5a548e-d8e2-42ed-f240-ee9bd70bbe16"
      },
      "execution_count": null,
      "outputs": [
        {
          "output_type": "execute_result",
          "data": {
            "text/plain": [
              "array(['Andaman and nicobar islands', 'Andhra pradesh',\n",
              "       'Arunachal pradesh', 'Assam', 'Bihar', 'Chandigarh',\n",
              "       'Chhattisgarh', 'Dadra and nagar haveli', 'Daman and diu', 'Delhi',\n",
              "       'Goa', 'Gujarat', 'Haryana', 'Himachal pradesh',\n",
              "       'Jammu and kashmir', 'Jharkhand', 'Karnataka', 'Kerala',\n",
              "       'Madhya pradesh', 'Maharashtra', 'Manipur', 'Meghalaya', 'Mizoram',\n",
              "       'Nagaland', 'Odisha', 'Puducherry', 'Punjab', 'Rajasthan',\n",
              "       'Sikkim', 'Tamil nadu', 'Telangana', 'Tripura', 'Uttar pradesh',\n",
              "       'Uttarakhand', 'West bengal'], dtype=object)"
            ]
          },
          "metadata": {},
          "execution_count": 32
        }
      ]
    },
    {
      "cell_type": "code",
      "source": [
        "#hard coding to switch cases\n",
        "for index,state in enumerate(all_states):\n",
        "    if state =='Andaman and nicobar islands':\n",
        "        all_states[index] = 'Andaman and Nicobar Islands'\n",
        "    elif state=='Andhra pradesh':\n",
        "        all_states[index] = 'Andhra Pradesh'\n",
        "    elif state=='Arunachal pradesh':\n",
        "        all_states[index] = 'Arunachal Pradesh'\n",
        "    elif state=='Dadra and nagar haveli':\n",
        "        all_states[index] = 'Dadra and Nagar Haveli'\n",
        "    elif state=='Himachal pradesh':\n",
        "        all_states[index] = 'Himachal Pradesh'\n",
        "    elif state=='Jammu and kashmir':\n",
        "        all_states[index] = 'Jammu and Kashmir'\n",
        "    elif state=='Madhya pradesh':\n",
        "        all_states[index] = 'Madhya Pradesh'\n",
        "    elif state=='Tamil nadu':\n",
        "        all_states[index] = 'Tamil Nadu'\n",
        "    elif state=='Uttar pradesh':\n",
        "        all_states[index] = 'Uttar Pradesh'\n",
        "    elif state=='West bengal':\n",
        "        all_states[index] = 'West Bengal'\n",
        "    elif state=='Daman and diu':\n",
        "        all_states[index] = 'Daman and Diu'"
      ],
      "metadata": {
        "id": "5Lcpe1daiK_D"
      },
      "execution_count": null,
      "outputs": []
    },
    {
      "cell_type": "code",
      "source": [
        "#splitting the words and then capitalizing the 2nd Word in the string to switch cases\n",
        "\n",
        "for index, state in enumerate(all_states):\n",
        "    if ' and' in state:\n",
        "        after_split = state.split(' ')\n",
        "        if len(after_split) > 3 :\n",
        "            x,x1 = after_split[2].capitalize(), after_split[3].capitalize()\n",
        "            after_split[2],after_split[3] =x,x1\n",
        "            \n",
        "            y=' '.join(after_split)\n",
        "            all_states[index] = y\n",
        "        else:\n",
        "            x =after_split[2].capitalize()\n",
        "            after_split[2] = x\n",
        "            \n",
        "            y=' '.join(after_split)\n",
        "            all_states[index] =y\n",
        "        \n",
        "    elif ' 'in state:\n",
        "        after_split = state.split(' ')\n",
        "        x = after_split[1].capitalize()\n",
        "        after_split[1] = x\n",
        "\n",
        "        y=' '.join(after_split)\n",
        "        all_states[index] = y\n",
        "        \n",
        "all_states"
      ],
      "metadata": {
        "colab": {
          "base_uri": "https://localhost:8080/"
        },
        "id": "3wV8fPjgioqq",
        "outputId": "98efc727-30a1-4eb9-c95b-46ca8a9666b4"
      },
      "execution_count": null,
      "outputs": [
        {
          "output_type": "execute_result",
          "data": {
            "text/plain": [
              "array(['Andaman and Nicobar Islands', 'Andhra Pradesh',\n",
              "       'Arunachal Pradesh', 'Assam', 'Bihar', 'Chandigarh',\n",
              "       'Chhattisgarh', 'Dadra and Nagar Haveli', 'Daman and Diu', 'Delhi',\n",
              "       'Goa', 'Gujarat', 'Haryana', 'Himachal Pradesh',\n",
              "       'Jammu and Kashmir', 'Jharkhand', 'Karnataka', 'Kerala',\n",
              "       'Madhya Pradesh', 'Maharashtra', 'Manipur', 'Meghalaya', 'Mizoram',\n",
              "       'Nagaland', 'Odisha', 'Puducherry', 'Punjab', 'Rajasthan',\n",
              "       'Sikkim', 'Tamil Nadu', 'Telangana', 'Tripura', 'Uttar Pradesh',\n",
              "       'Uttarakhand', 'West Bengal'], dtype=object)"
            ]
          },
          "metadata": {},
          "execution_count": 34
        }
      ]
    },
    {
      "cell_type": "markdown",
      "source": [
        "**Gathering State data**"
      ],
      "metadata": {
        "id": "Gio4K5n5iw3t"
      }
    },
    {
      "cell_type": "code",
      "source": [
        "#Create new dataframe contain state wise information name satate_data\n",
        "avg_score = dataset.Score.mean()\n",
        "percent_of_belowAvgCol = dataset['Score'].loc[dataset['Score'] < avg_score].count()  /  dataset.Score.shape  * 100\n",
        "state = pd.unique(dataset.State)"
      ],
      "metadata": {
        "id": "DqddUl1upkxi"
      },
      "execution_count": null,
      "outputs": []
    },
    {
      "cell_type": "code",
      "source": [
        "col_count  = pd.value_counts(dataset['State'])\n",
        "state_data = pd.DataFrame(data = col_count)\n",
        "state_data = state_data.rename( columns = {'State':'col_count'})\n",
        "state_data['state'] = state_data.index\n",
        "state_data.index = range(len(state_data))\n",
        "\n",
        "state_data['col_count_percent %'] = state_data.col_count / dataset['College Name'].count() * 100\n",
        "pd.set_option('display.float_format', '{:.2f}'.format)\n",
        "\n",
        "state_data"
      ],
      "metadata": {
        "colab": {
          "base_uri": "https://localhost:8080/",
          "height": 1000
        },
        "id": "0zuBUH3ep9vA",
        "outputId": "15da5a37-7aaf-4b1b-d536-3cdee88d34f6"
      },
      "execution_count": null,
      "outputs": [
        {
          "output_type": "execute_result",
          "data": {
            "text/plain": [
              "    col_count                        state  col_count_percent %\n",
              "0        1520                  Maharashtra                24.51\n",
              "1         756                    Karnataka                12.19\n",
              "2         500                   Tamil nadu                 8.06\n",
              "3         325                  West bengal                 5.24\n",
              "4         269               Andhra pradesh                 4.34\n",
              "5         262               Madhya pradesh                 4.23\n",
              "6         259                       Kerala                 4.18\n",
              "7         234                    Telangana                 3.77\n",
              "8         220                      Gujarat                 3.55\n",
              "9         219                Uttar pradesh                 3.53\n",
              "10        208                       Odisha                 3.35\n",
              "11        158                        Assam                 2.55\n",
              "12        156                       Punjab                 2.52\n",
              "13        155                 Chhattisgarh                 2.50\n",
              "14        138                      Haryana                 2.23\n",
              "15        131                        Bihar                 2.11\n",
              "16        131                    Rajasthan                 2.11\n",
              "17        115                    Jharkhand                 1.85\n",
              "18         81                        Delhi                 1.31\n",
              "19         75            Jammu and kashmir                 1.21\n",
              "20         50             Himachal pradesh                 0.81\n",
              "21         34                  Uttarakhand                 0.55\n",
              "22         33                     Nagaland                 0.53\n",
              "23         28                      Manipur                 0.45\n",
              "24         25                          Goa                 0.40\n",
              "25         22                      Mizoram                 0.35\n",
              "26         21                    Meghalaya                 0.34\n",
              "27         21                      Tripura                 0.34\n",
              "28         19                   Puducherry                 0.31\n",
              "29         15                   Chandigarh                 0.24\n",
              "30          7                       Sikkim                 0.11\n",
              "31          6            Arunachal pradesh                 0.10\n",
              "32          3       Dadra and nagar haveli                 0.05\n",
              "33          3  Andaman and nicobar islands                 0.05\n",
              "34          2                Daman and diu                 0.03"
            ],
            "text/html": [
              "\n",
              "  <div id=\"df-81704a02-310f-4c74-a772-d7b8682e9f34\">\n",
              "    <div class=\"colab-df-container\">\n",
              "      <div>\n",
              "<style scoped>\n",
              "    .dataframe tbody tr th:only-of-type {\n",
              "        vertical-align: middle;\n",
              "    }\n",
              "\n",
              "    .dataframe tbody tr th {\n",
              "        vertical-align: top;\n",
              "    }\n",
              "\n",
              "    .dataframe thead th {\n",
              "        text-align: right;\n",
              "    }\n",
              "</style>\n",
              "<table border=\"1\" class=\"dataframe\">\n",
              "  <thead>\n",
              "    <tr style=\"text-align: right;\">\n",
              "      <th></th>\n",
              "      <th>col_count</th>\n",
              "      <th>state</th>\n",
              "      <th>col_count_percent %</th>\n",
              "    </tr>\n",
              "  </thead>\n",
              "  <tbody>\n",
              "    <tr>\n",
              "      <th>0</th>\n",
              "      <td>1520</td>\n",
              "      <td>Maharashtra</td>\n",
              "      <td>24.51</td>\n",
              "    </tr>\n",
              "    <tr>\n",
              "      <th>1</th>\n",
              "      <td>756</td>\n",
              "      <td>Karnataka</td>\n",
              "      <td>12.19</td>\n",
              "    </tr>\n",
              "    <tr>\n",
              "      <th>2</th>\n",
              "      <td>500</td>\n",
              "      <td>Tamil nadu</td>\n",
              "      <td>8.06</td>\n",
              "    </tr>\n",
              "    <tr>\n",
              "      <th>3</th>\n",
              "      <td>325</td>\n",
              "      <td>West bengal</td>\n",
              "      <td>5.24</td>\n",
              "    </tr>\n",
              "    <tr>\n",
              "      <th>4</th>\n",
              "      <td>269</td>\n",
              "      <td>Andhra pradesh</td>\n",
              "      <td>4.34</td>\n",
              "    </tr>\n",
              "    <tr>\n",
              "      <th>5</th>\n",
              "      <td>262</td>\n",
              "      <td>Madhya pradesh</td>\n",
              "      <td>4.23</td>\n",
              "    </tr>\n",
              "    <tr>\n",
              "      <th>6</th>\n",
              "      <td>259</td>\n",
              "      <td>Kerala</td>\n",
              "      <td>4.18</td>\n",
              "    </tr>\n",
              "    <tr>\n",
              "      <th>7</th>\n",
              "      <td>234</td>\n",
              "      <td>Telangana</td>\n",
              "      <td>3.77</td>\n",
              "    </tr>\n",
              "    <tr>\n",
              "      <th>8</th>\n",
              "      <td>220</td>\n",
              "      <td>Gujarat</td>\n",
              "      <td>3.55</td>\n",
              "    </tr>\n",
              "    <tr>\n",
              "      <th>9</th>\n",
              "      <td>219</td>\n",
              "      <td>Uttar pradesh</td>\n",
              "      <td>3.53</td>\n",
              "    </tr>\n",
              "    <tr>\n",
              "      <th>10</th>\n",
              "      <td>208</td>\n",
              "      <td>Odisha</td>\n",
              "      <td>3.35</td>\n",
              "    </tr>\n",
              "    <tr>\n",
              "      <th>11</th>\n",
              "      <td>158</td>\n",
              "      <td>Assam</td>\n",
              "      <td>2.55</td>\n",
              "    </tr>\n",
              "    <tr>\n",
              "      <th>12</th>\n",
              "      <td>156</td>\n",
              "      <td>Punjab</td>\n",
              "      <td>2.52</td>\n",
              "    </tr>\n",
              "    <tr>\n",
              "      <th>13</th>\n",
              "      <td>155</td>\n",
              "      <td>Chhattisgarh</td>\n",
              "      <td>2.50</td>\n",
              "    </tr>\n",
              "    <tr>\n",
              "      <th>14</th>\n",
              "      <td>138</td>\n",
              "      <td>Haryana</td>\n",
              "      <td>2.23</td>\n",
              "    </tr>\n",
              "    <tr>\n",
              "      <th>15</th>\n",
              "      <td>131</td>\n",
              "      <td>Bihar</td>\n",
              "      <td>2.11</td>\n",
              "    </tr>\n",
              "    <tr>\n",
              "      <th>16</th>\n",
              "      <td>131</td>\n",
              "      <td>Rajasthan</td>\n",
              "      <td>2.11</td>\n",
              "    </tr>\n",
              "    <tr>\n",
              "      <th>17</th>\n",
              "      <td>115</td>\n",
              "      <td>Jharkhand</td>\n",
              "      <td>1.85</td>\n",
              "    </tr>\n",
              "    <tr>\n",
              "      <th>18</th>\n",
              "      <td>81</td>\n",
              "      <td>Delhi</td>\n",
              "      <td>1.31</td>\n",
              "    </tr>\n",
              "    <tr>\n",
              "      <th>19</th>\n",
              "      <td>75</td>\n",
              "      <td>Jammu and kashmir</td>\n",
              "      <td>1.21</td>\n",
              "    </tr>\n",
              "    <tr>\n",
              "      <th>20</th>\n",
              "      <td>50</td>\n",
              "      <td>Himachal pradesh</td>\n",
              "      <td>0.81</td>\n",
              "    </tr>\n",
              "    <tr>\n",
              "      <th>21</th>\n",
              "      <td>34</td>\n",
              "      <td>Uttarakhand</td>\n",
              "      <td>0.55</td>\n",
              "    </tr>\n",
              "    <tr>\n",
              "      <th>22</th>\n",
              "      <td>33</td>\n",
              "      <td>Nagaland</td>\n",
              "      <td>0.53</td>\n",
              "    </tr>\n",
              "    <tr>\n",
              "      <th>23</th>\n",
              "      <td>28</td>\n",
              "      <td>Manipur</td>\n",
              "      <td>0.45</td>\n",
              "    </tr>\n",
              "    <tr>\n",
              "      <th>24</th>\n",
              "      <td>25</td>\n",
              "      <td>Goa</td>\n",
              "      <td>0.40</td>\n",
              "    </tr>\n",
              "    <tr>\n",
              "      <th>25</th>\n",
              "      <td>22</td>\n",
              "      <td>Mizoram</td>\n",
              "      <td>0.35</td>\n",
              "    </tr>\n",
              "    <tr>\n",
              "      <th>26</th>\n",
              "      <td>21</td>\n",
              "      <td>Meghalaya</td>\n",
              "      <td>0.34</td>\n",
              "    </tr>\n",
              "    <tr>\n",
              "      <th>27</th>\n",
              "      <td>21</td>\n",
              "      <td>Tripura</td>\n",
              "      <td>0.34</td>\n",
              "    </tr>\n",
              "    <tr>\n",
              "      <th>28</th>\n",
              "      <td>19</td>\n",
              "      <td>Puducherry</td>\n",
              "      <td>0.31</td>\n",
              "    </tr>\n",
              "    <tr>\n",
              "      <th>29</th>\n",
              "      <td>15</td>\n",
              "      <td>Chandigarh</td>\n",
              "      <td>0.24</td>\n",
              "    </tr>\n",
              "    <tr>\n",
              "      <th>30</th>\n",
              "      <td>7</td>\n",
              "      <td>Sikkim</td>\n",
              "      <td>0.11</td>\n",
              "    </tr>\n",
              "    <tr>\n",
              "      <th>31</th>\n",
              "      <td>6</td>\n",
              "      <td>Arunachal pradesh</td>\n",
              "      <td>0.10</td>\n",
              "    </tr>\n",
              "    <tr>\n",
              "      <th>32</th>\n",
              "      <td>3</td>\n",
              "      <td>Dadra and nagar haveli</td>\n",
              "      <td>0.05</td>\n",
              "    </tr>\n",
              "    <tr>\n",
              "      <th>33</th>\n",
              "      <td>3</td>\n",
              "      <td>Andaman and nicobar islands</td>\n",
              "      <td>0.05</td>\n",
              "    </tr>\n",
              "    <tr>\n",
              "      <th>34</th>\n",
              "      <td>2</td>\n",
              "      <td>Daman and diu</td>\n",
              "      <td>0.03</td>\n",
              "    </tr>\n",
              "  </tbody>\n",
              "</table>\n",
              "</div>\n",
              "      <button class=\"colab-df-convert\" onclick=\"convertToInteractive('df-81704a02-310f-4c74-a772-d7b8682e9f34')\"\n",
              "              title=\"Convert this dataframe to an interactive table.\"\n",
              "              style=\"display:none;\">\n",
              "        \n",
              "  <svg xmlns=\"http://www.w3.org/2000/svg\" height=\"24px\"viewBox=\"0 0 24 24\"\n",
              "       width=\"24px\">\n",
              "    <path d=\"M0 0h24v24H0V0z\" fill=\"none\"/>\n",
              "    <path d=\"M18.56 5.44l.94 2.06.94-2.06 2.06-.94-2.06-.94-.94-2.06-.94 2.06-2.06.94zm-11 1L8.5 8.5l.94-2.06 2.06-.94-2.06-.94L8.5 2.5l-.94 2.06-2.06.94zm10 10l.94 2.06.94-2.06 2.06-.94-2.06-.94-.94-2.06-.94 2.06-2.06.94z\"/><path d=\"M17.41 7.96l-1.37-1.37c-.4-.4-.92-.59-1.43-.59-.52 0-1.04.2-1.43.59L10.3 9.45l-7.72 7.72c-.78.78-.78 2.05 0 2.83L4 21.41c.39.39.9.59 1.41.59.51 0 1.02-.2 1.41-.59l7.78-7.78 2.81-2.81c.8-.78.8-2.07 0-2.86zM5.41 20L4 18.59l7.72-7.72 1.47 1.35L5.41 20z\"/>\n",
              "  </svg>\n",
              "      </button>\n",
              "      \n",
              "  <style>\n",
              "    .colab-df-container {\n",
              "      display:flex;\n",
              "      flex-wrap:wrap;\n",
              "      gap: 12px;\n",
              "    }\n",
              "\n",
              "    .colab-df-convert {\n",
              "      background-color: #E8F0FE;\n",
              "      border: none;\n",
              "      border-radius: 50%;\n",
              "      cursor: pointer;\n",
              "      display: none;\n",
              "      fill: #1967D2;\n",
              "      height: 32px;\n",
              "      padding: 0 0 0 0;\n",
              "      width: 32px;\n",
              "    }\n",
              "\n",
              "    .colab-df-convert:hover {\n",
              "      background-color: #E2EBFA;\n",
              "      box-shadow: 0px 1px 2px rgba(60, 64, 67, 0.3), 0px 1px 3px 1px rgba(60, 64, 67, 0.15);\n",
              "      fill: #174EA6;\n",
              "    }\n",
              "\n",
              "    [theme=dark] .colab-df-convert {\n",
              "      background-color: #3B4455;\n",
              "      fill: #D2E3FC;\n",
              "    }\n",
              "\n",
              "    [theme=dark] .colab-df-convert:hover {\n",
              "      background-color: #434B5C;\n",
              "      box-shadow: 0px 1px 3px 1px rgba(0, 0, 0, 0.15);\n",
              "      filter: drop-shadow(0px 1px 2px rgba(0, 0, 0, 0.3));\n",
              "      fill: #FFFFFF;\n",
              "    }\n",
              "  </style>\n",
              "\n",
              "      <script>\n",
              "        const buttonEl =\n",
              "          document.querySelector('#df-81704a02-310f-4c74-a772-d7b8682e9f34 button.colab-df-convert');\n",
              "        buttonEl.style.display =\n",
              "          google.colab.kernel.accessAllowed ? 'block' : 'none';\n",
              "\n",
              "        async function convertToInteractive(key) {\n",
              "          const element = document.querySelector('#df-81704a02-310f-4c74-a772-d7b8682e9f34');\n",
              "          const dataTable =\n",
              "            await google.colab.kernel.invokeFunction('convertToInteractive',\n",
              "                                                     [key], {});\n",
              "          if (!dataTable) return;\n",
              "\n",
              "          const docLinkHtml = 'Like what you see? Visit the ' +\n",
              "            '<a target=\"_blank\" href=https://colab.research.google.com/notebooks/data_table.ipynb>data table notebook</a>'\n",
              "            + ' to learn more about interactive tables.';\n",
              "          element.innerHTML = '';\n",
              "          dataTable['output_type'] = 'display_data';\n",
              "          await google.colab.output.renderOutput(dataTable, element);\n",
              "          const docLink = document.createElement('div');\n",
              "          docLink.innerHTML = docLinkHtml;\n",
              "          element.appendChild(docLink);\n",
              "        }\n",
              "      </script>\n",
              "    </div>\n",
              "  </div>\n",
              "  "
            ]
          },
          "metadata": {},
          "execution_count": 36
        }
      ]
    },
    {
      "cell_type": "code",
      "source": [
        "score = dataset.loc[dataset['State'] == 'Maharashtra']\n",
        "for_loop = state_data\n",
        "dt = pd.DataFrame(columns={\n",
        "    'state':[],\n",
        "    'Avg_score':[]\n",
        "})\n",
        "w = for_loop.state.unique()\n",
        "for i in w:\n",
        "    ds = dataset.loc[dataset['State'] == i] \n",
        "    sa = ds.Score.sum() / ds.State.count() \n",
        "    dt = dt.append({\n",
        "        'State':i,\n",
        "        'avg_score':sa\n",
        "        }, ignore_index= True)\n",
        "\n",
        "dt = dt.drop(dt.iloc[:,0:2], axis = 1)\n",
        "dt.rename(columns = {'State':'state'}, inplace = True)\n",
        "state_data = dt.merge(state_data, how = 'left', on = 'state')"
      ],
      "metadata": {
        "id": "OnoMt4-yq115"
      },
      "execution_count": null,
      "outputs": []
    },
    {
      "cell_type": "code",
      "source": [
        "f = dataset.loc[dataset['Score'] > 2.51]\n",
        "du = pd.DataFrame(columns={\n",
        "    'state':[],\n",
        "})\n",
        "w = for_loop.state.unique()\n",
        "for i in w:\n",
        "    ds = f.loc[dataset['State'] == i]\n",
        "    s = dataset.loc[dataset['State'] == i]\n",
        "    aa = ds.State.count()  / s.State.count() *100\n",
        "    \n",
        "    du = du.append({\n",
        "        'state': i,\n",
        "        'above_avg_col %':aa\n",
        "        }, ignore_index= True)\n",
        "\n",
        "\n",
        "state_data = state_data.merge(du, how = 'right' , on = 'state')"
      ],
      "metadata": {
        "id": "XBGFvlHjrBF0"
      },
      "execution_count": null,
      "outputs": []
    },
    {
      "cell_type": "code",
      "source": [
        "u = dataset.loc[dataset['Score'] <= 2.51]\n",
        "dv = pd.DataFrame(columns={\n",
        "    'state':[],\n",
        "})\n",
        "w = for_loop.state.unique()\n",
        "for i in w:\n",
        "    ds = u.loc[dataset['State'] == i]\n",
        "    t = dataset.loc[dataset['State'] == i]\n",
        "    ab = ds.State.count()  / t.State.count() *100\n",
        "    \n",
        "    dv = dv.append({\n",
        "        'state': i,\n",
        "        'below_avg_col %':ab\n",
        "        }, ignore_index= True)\n",
        "    \n",
        "state_data = state_data.merge(dv, how = 'right', on = 'state')"
      ],
      "metadata": {
        "id": "V-5TeHkzrMX7"
      },
      "execution_count": null,
      "outputs": []
    },
    {
      "cell_type": "code",
      "source": [
        "v = dataset.loc[dataset['Grade'] == 'A++']\n",
        "dx = pd.DataFrame(columns={\n",
        "    'state':[]\n",
        "})\n",
        "w = for_loop.state.unique()\n",
        "for i in w:\n",
        "    ds = v.loc[dataset['State'] == i]\n",
        "    u = dataset.loc[dataset['State'] == i]\n",
        "    ab = ds.State.count()  / u.State.count() *100\n",
        "    \n",
        "    dx = dx.append({\n",
        "        'state': i,\n",
        "        'top_grade_col %':ab\n",
        "        }, ignore_index= True)\n",
        "\n",
        "\n",
        "state_data = state_data.merge(dx , how = 'right' , on = 'state')"
      ],
      "metadata": {
        "id": "YnHrbp34rWmY"
      },
      "execution_count": null,
      "outputs": []
    },
    {
      "cell_type": "code",
      "source": [
        "z = dataset.loc[dataset['Grade'] == 'C']\n",
        "dy = pd.DataFrame(columns={\n",
        "    'state':[]\n",
        "})\n",
        "w = for_loop.state.unique()\n",
        "\n",
        "for i in w:\n",
        "    ds = z.loc[dataset['State'] == i]\n",
        "    y = dataset.loc[dataset['State'] == i]\n",
        "    ab = ds.State.count()  / y.State.count() *100\n",
        "    \n",
        "    dy = dy.append({\n",
        "        'state': i,\n",
        "        'bottom_grade_col %':ab\n",
        "        }, ignore_index= True)\n",
        "\n",
        "state_data = state_data.merge(dy, how = 'right' , on = 'state')"
      ],
      "metadata": {
        "id": "M8tak6iFrgBP"
      },
      "execution_count": null,
      "outputs": []
    },
    {
      "cell_type": "markdown",
      "source": [
        "**State wise dataframe**"
      ],
      "metadata": {
        "id": "vKogi_bfrqIW"
      }
    },
    {
      "cell_type": "code",
      "source": [
        "state_data"
      ],
      "metadata": {
        "colab": {
          "base_uri": "https://localhost:8080/",
          "height": 1000
        },
        "id": "Dde4aiyUrs6D",
        "outputId": "4e110864-7643-4260-cfc0-758feabd96e4"
      },
      "execution_count": null,
      "outputs": [
        {
          "output_type": "execute_result",
          "data": {
            "text/plain": [
              "                          state  avg_score  col_count  col_count_percent %  \\\n",
              "0                   Maharashtra       2.61       1520                24.51   \n",
              "1                     Karnataka       2.57        756                12.19   \n",
              "2                    Tamil nadu       2.82        500                 8.06   \n",
              "3                   West bengal       2.50        325                 5.24   \n",
              "4                Andhra pradesh       2.69        269                 4.34   \n",
              "5                Madhya pradesh       2.37        262                 4.23   \n",
              "6                        Kerala       2.90        259                 4.18   \n",
              "7                     Telangana       2.72        234                 3.77   \n",
              "8                       Gujarat       2.48        220                 3.55   \n",
              "9                 Uttar pradesh       2.44        219                 3.53   \n",
              "10                       Odisha       2.31        208                 3.35   \n",
              "11                        Assam       2.44        158                 2.55   \n",
              "12                       Punjab       2.74        156                 2.52   \n",
              "13                 Chhattisgarh       2.25        155                 2.50   \n",
              "14                      Haryana       2.51        138                 2.23   \n",
              "15                        Bihar       2.15        131                 2.11   \n",
              "16                    Rajasthan       2.40        131                 2.11   \n",
              "17                    Jharkhand       2.15        115                 1.85   \n",
              "18                        Delhi       3.01         81                 1.31   \n",
              "19            Jammu and kashmir       2.33         75                 1.21   \n",
              "20             Himachal pradesh       2.30         50                 0.81   \n",
              "21                  Uttarakhand       2.45         34                 0.55   \n",
              "22                     Nagaland       2.37         33                 0.53   \n",
              "23                      Manipur       2.21         28                 0.45   \n",
              "24                          Goa       2.89         25                 0.40   \n",
              "25                      Mizoram       2.43         22                 0.35   \n",
              "26                    Meghalaya       2.49         21                 0.34   \n",
              "27                      Tripura       2.21         21                 0.34   \n",
              "28                   Puducherry       2.57         19                 0.31   \n",
              "29                   Chandigarh       3.13         15                 0.24   \n",
              "30                       Sikkim       2.17          7                 0.11   \n",
              "31            Arunachal pradesh       2.49          6                 0.10   \n",
              "32       Dadra and nagar haveli       2.52          3                 0.05   \n",
              "33  Andaman and nicobar islands       2.50          3                 0.05   \n",
              "34                Daman and diu       2.17          2                 0.03   \n",
              "\n",
              "    above_avg_col %  below_avg_col %  top_grade_col %  bottom_grade_col %  \n",
              "0             58.88            41.12             0.20                8.36  \n",
              "1             54.89            45.11             0.66                8.20  \n",
              "2             74.80            25.20             3.40                2.20  \n",
              "3             51.69            48.31             0.62                9.54  \n",
              "4             65.43            34.57             0.37                7.06  \n",
              "5             35.88            64.12             0.76               21.76  \n",
              "6             86.87            13.13             1.93                0.39  \n",
              "7             68.38            31.62             2.56                7.26  \n",
              "8             47.27            52.73             0.00               10.91  \n",
              "9             41.55            58.45             0.46               13.24  \n",
              "10            33.65            66.35             0.48               16.35  \n",
              "11            42.41            57.59             0.63               10.13  \n",
              "12            68.59            31.41             0.64                4.49  \n",
              "13            27.74            72.26             0.00               27.10  \n",
              "14            49.28            50.72             1.45                7.97  \n",
              "15            18.32            81.68             0.00               29.77  \n",
              "16            38.17            61.83             1.53               12.98  \n",
              "17            15.65            84.35             0.00               29.57  \n",
              "18            87.65            12.35             2.47                0.00  \n",
              "19            33.33            66.67             0.00               26.67  \n",
              "20            34.00            66.00             0.00               20.00  \n",
              "21            50.00            50.00             0.00               11.76  \n",
              "22            33.33            66.67             0.00               12.12  \n",
              "23            14.29            85.71             0.00               14.29  \n",
              "24            84.00            16.00             0.00                0.00  \n",
              "25            45.45            54.55             0.00               22.73  \n",
              "26            42.86            57.14             0.00               14.29  \n",
              "27            28.57            71.43             0.00               28.57  \n",
              "28            52.63            47.37             0.00                5.26  \n",
              "29           100.00             0.00             0.00                0.00  \n",
              "30            28.57            71.43             0.00               42.86  \n",
              "31            50.00            50.00             0.00               33.33  \n",
              "32            66.67            33.33             0.00                0.00  \n",
              "33            66.67            33.33             0.00               33.33  \n",
              "34            50.00            50.00             0.00               50.00  "
            ],
            "text/html": [
              "\n",
              "  <div id=\"df-96be7510-9179-492c-971d-94288854f64c\">\n",
              "    <div class=\"colab-df-container\">\n",
              "      <div>\n",
              "<style scoped>\n",
              "    .dataframe tbody tr th:only-of-type {\n",
              "        vertical-align: middle;\n",
              "    }\n",
              "\n",
              "    .dataframe tbody tr th {\n",
              "        vertical-align: top;\n",
              "    }\n",
              "\n",
              "    .dataframe thead th {\n",
              "        text-align: right;\n",
              "    }\n",
              "</style>\n",
              "<table border=\"1\" class=\"dataframe\">\n",
              "  <thead>\n",
              "    <tr style=\"text-align: right;\">\n",
              "      <th></th>\n",
              "      <th>state</th>\n",
              "      <th>avg_score</th>\n",
              "      <th>col_count</th>\n",
              "      <th>col_count_percent %</th>\n",
              "      <th>above_avg_col %</th>\n",
              "      <th>below_avg_col %</th>\n",
              "      <th>top_grade_col %</th>\n",
              "      <th>bottom_grade_col %</th>\n",
              "    </tr>\n",
              "  </thead>\n",
              "  <tbody>\n",
              "    <tr>\n",
              "      <th>0</th>\n",
              "      <td>Maharashtra</td>\n",
              "      <td>2.61</td>\n",
              "      <td>1520</td>\n",
              "      <td>24.51</td>\n",
              "      <td>58.88</td>\n",
              "      <td>41.12</td>\n",
              "      <td>0.20</td>\n",
              "      <td>8.36</td>\n",
              "    </tr>\n",
              "    <tr>\n",
              "      <th>1</th>\n",
              "      <td>Karnataka</td>\n",
              "      <td>2.57</td>\n",
              "      <td>756</td>\n",
              "      <td>12.19</td>\n",
              "      <td>54.89</td>\n",
              "      <td>45.11</td>\n",
              "      <td>0.66</td>\n",
              "      <td>8.20</td>\n",
              "    </tr>\n",
              "    <tr>\n",
              "      <th>2</th>\n",
              "      <td>Tamil nadu</td>\n",
              "      <td>2.82</td>\n",
              "      <td>500</td>\n",
              "      <td>8.06</td>\n",
              "      <td>74.80</td>\n",
              "      <td>25.20</td>\n",
              "      <td>3.40</td>\n",
              "      <td>2.20</td>\n",
              "    </tr>\n",
              "    <tr>\n",
              "      <th>3</th>\n",
              "      <td>West bengal</td>\n",
              "      <td>2.50</td>\n",
              "      <td>325</td>\n",
              "      <td>5.24</td>\n",
              "      <td>51.69</td>\n",
              "      <td>48.31</td>\n",
              "      <td>0.62</td>\n",
              "      <td>9.54</td>\n",
              "    </tr>\n",
              "    <tr>\n",
              "      <th>4</th>\n",
              "      <td>Andhra pradesh</td>\n",
              "      <td>2.69</td>\n",
              "      <td>269</td>\n",
              "      <td>4.34</td>\n",
              "      <td>65.43</td>\n",
              "      <td>34.57</td>\n",
              "      <td>0.37</td>\n",
              "      <td>7.06</td>\n",
              "    </tr>\n",
              "    <tr>\n",
              "      <th>5</th>\n",
              "      <td>Madhya pradesh</td>\n",
              "      <td>2.37</td>\n",
              "      <td>262</td>\n",
              "      <td>4.23</td>\n",
              "      <td>35.88</td>\n",
              "      <td>64.12</td>\n",
              "      <td>0.76</td>\n",
              "      <td>21.76</td>\n",
              "    </tr>\n",
              "    <tr>\n",
              "      <th>6</th>\n",
              "      <td>Kerala</td>\n",
              "      <td>2.90</td>\n",
              "      <td>259</td>\n",
              "      <td>4.18</td>\n",
              "      <td>86.87</td>\n",
              "      <td>13.13</td>\n",
              "      <td>1.93</td>\n",
              "      <td>0.39</td>\n",
              "    </tr>\n",
              "    <tr>\n",
              "      <th>7</th>\n",
              "      <td>Telangana</td>\n",
              "      <td>2.72</td>\n",
              "      <td>234</td>\n",
              "      <td>3.77</td>\n",
              "      <td>68.38</td>\n",
              "      <td>31.62</td>\n",
              "      <td>2.56</td>\n",
              "      <td>7.26</td>\n",
              "    </tr>\n",
              "    <tr>\n",
              "      <th>8</th>\n",
              "      <td>Gujarat</td>\n",
              "      <td>2.48</td>\n",
              "      <td>220</td>\n",
              "      <td>3.55</td>\n",
              "      <td>47.27</td>\n",
              "      <td>52.73</td>\n",
              "      <td>0.00</td>\n",
              "      <td>10.91</td>\n",
              "    </tr>\n",
              "    <tr>\n",
              "      <th>9</th>\n",
              "      <td>Uttar pradesh</td>\n",
              "      <td>2.44</td>\n",
              "      <td>219</td>\n",
              "      <td>3.53</td>\n",
              "      <td>41.55</td>\n",
              "      <td>58.45</td>\n",
              "      <td>0.46</td>\n",
              "      <td>13.24</td>\n",
              "    </tr>\n",
              "    <tr>\n",
              "      <th>10</th>\n",
              "      <td>Odisha</td>\n",
              "      <td>2.31</td>\n",
              "      <td>208</td>\n",
              "      <td>3.35</td>\n",
              "      <td>33.65</td>\n",
              "      <td>66.35</td>\n",
              "      <td>0.48</td>\n",
              "      <td>16.35</td>\n",
              "    </tr>\n",
              "    <tr>\n",
              "      <th>11</th>\n",
              "      <td>Assam</td>\n",
              "      <td>2.44</td>\n",
              "      <td>158</td>\n",
              "      <td>2.55</td>\n",
              "      <td>42.41</td>\n",
              "      <td>57.59</td>\n",
              "      <td>0.63</td>\n",
              "      <td>10.13</td>\n",
              "    </tr>\n",
              "    <tr>\n",
              "      <th>12</th>\n",
              "      <td>Punjab</td>\n",
              "      <td>2.74</td>\n",
              "      <td>156</td>\n",
              "      <td>2.52</td>\n",
              "      <td>68.59</td>\n",
              "      <td>31.41</td>\n",
              "      <td>0.64</td>\n",
              "      <td>4.49</td>\n",
              "    </tr>\n",
              "    <tr>\n",
              "      <th>13</th>\n",
              "      <td>Chhattisgarh</td>\n",
              "      <td>2.25</td>\n",
              "      <td>155</td>\n",
              "      <td>2.50</td>\n",
              "      <td>27.74</td>\n",
              "      <td>72.26</td>\n",
              "      <td>0.00</td>\n",
              "      <td>27.10</td>\n",
              "    </tr>\n",
              "    <tr>\n",
              "      <th>14</th>\n",
              "      <td>Haryana</td>\n",
              "      <td>2.51</td>\n",
              "      <td>138</td>\n",
              "      <td>2.23</td>\n",
              "      <td>49.28</td>\n",
              "      <td>50.72</td>\n",
              "      <td>1.45</td>\n",
              "      <td>7.97</td>\n",
              "    </tr>\n",
              "    <tr>\n",
              "      <th>15</th>\n",
              "      <td>Bihar</td>\n",
              "      <td>2.15</td>\n",
              "      <td>131</td>\n",
              "      <td>2.11</td>\n",
              "      <td>18.32</td>\n",
              "      <td>81.68</td>\n",
              "      <td>0.00</td>\n",
              "      <td>29.77</td>\n",
              "    </tr>\n",
              "    <tr>\n",
              "      <th>16</th>\n",
              "      <td>Rajasthan</td>\n",
              "      <td>2.40</td>\n",
              "      <td>131</td>\n",
              "      <td>2.11</td>\n",
              "      <td>38.17</td>\n",
              "      <td>61.83</td>\n",
              "      <td>1.53</td>\n",
              "      <td>12.98</td>\n",
              "    </tr>\n",
              "    <tr>\n",
              "      <th>17</th>\n",
              "      <td>Jharkhand</td>\n",
              "      <td>2.15</td>\n",
              "      <td>115</td>\n",
              "      <td>1.85</td>\n",
              "      <td>15.65</td>\n",
              "      <td>84.35</td>\n",
              "      <td>0.00</td>\n",
              "      <td>29.57</td>\n",
              "    </tr>\n",
              "    <tr>\n",
              "      <th>18</th>\n",
              "      <td>Delhi</td>\n",
              "      <td>3.01</td>\n",
              "      <td>81</td>\n",
              "      <td>1.31</td>\n",
              "      <td>87.65</td>\n",
              "      <td>12.35</td>\n",
              "      <td>2.47</td>\n",
              "      <td>0.00</td>\n",
              "    </tr>\n",
              "    <tr>\n",
              "      <th>19</th>\n",
              "      <td>Jammu and kashmir</td>\n",
              "      <td>2.33</td>\n",
              "      <td>75</td>\n",
              "      <td>1.21</td>\n",
              "      <td>33.33</td>\n",
              "      <td>66.67</td>\n",
              "      <td>0.00</td>\n",
              "      <td>26.67</td>\n",
              "    </tr>\n",
              "    <tr>\n",
              "      <th>20</th>\n",
              "      <td>Himachal pradesh</td>\n",
              "      <td>2.30</td>\n",
              "      <td>50</td>\n",
              "      <td>0.81</td>\n",
              "      <td>34.00</td>\n",
              "      <td>66.00</td>\n",
              "      <td>0.00</td>\n",
              "      <td>20.00</td>\n",
              "    </tr>\n",
              "    <tr>\n",
              "      <th>21</th>\n",
              "      <td>Uttarakhand</td>\n",
              "      <td>2.45</td>\n",
              "      <td>34</td>\n",
              "      <td>0.55</td>\n",
              "      <td>50.00</td>\n",
              "      <td>50.00</td>\n",
              "      <td>0.00</td>\n",
              "      <td>11.76</td>\n",
              "    </tr>\n",
              "    <tr>\n",
              "      <th>22</th>\n",
              "      <td>Nagaland</td>\n",
              "      <td>2.37</td>\n",
              "      <td>33</td>\n",
              "      <td>0.53</td>\n",
              "      <td>33.33</td>\n",
              "      <td>66.67</td>\n",
              "      <td>0.00</td>\n",
              "      <td>12.12</td>\n",
              "    </tr>\n",
              "    <tr>\n",
              "      <th>23</th>\n",
              "      <td>Manipur</td>\n",
              "      <td>2.21</td>\n",
              "      <td>28</td>\n",
              "      <td>0.45</td>\n",
              "      <td>14.29</td>\n",
              "      <td>85.71</td>\n",
              "      <td>0.00</td>\n",
              "      <td>14.29</td>\n",
              "    </tr>\n",
              "    <tr>\n",
              "      <th>24</th>\n",
              "      <td>Goa</td>\n",
              "      <td>2.89</td>\n",
              "      <td>25</td>\n",
              "      <td>0.40</td>\n",
              "      <td>84.00</td>\n",
              "      <td>16.00</td>\n",
              "      <td>0.00</td>\n",
              "      <td>0.00</td>\n",
              "    </tr>\n",
              "    <tr>\n",
              "      <th>25</th>\n",
              "      <td>Mizoram</td>\n",
              "      <td>2.43</td>\n",
              "      <td>22</td>\n",
              "      <td>0.35</td>\n",
              "      <td>45.45</td>\n",
              "      <td>54.55</td>\n",
              "      <td>0.00</td>\n",
              "      <td>22.73</td>\n",
              "    </tr>\n",
              "    <tr>\n",
              "      <th>26</th>\n",
              "      <td>Meghalaya</td>\n",
              "      <td>2.49</td>\n",
              "      <td>21</td>\n",
              "      <td>0.34</td>\n",
              "      <td>42.86</td>\n",
              "      <td>57.14</td>\n",
              "      <td>0.00</td>\n",
              "      <td>14.29</td>\n",
              "    </tr>\n",
              "    <tr>\n",
              "      <th>27</th>\n",
              "      <td>Tripura</td>\n",
              "      <td>2.21</td>\n",
              "      <td>21</td>\n",
              "      <td>0.34</td>\n",
              "      <td>28.57</td>\n",
              "      <td>71.43</td>\n",
              "      <td>0.00</td>\n",
              "      <td>28.57</td>\n",
              "    </tr>\n",
              "    <tr>\n",
              "      <th>28</th>\n",
              "      <td>Puducherry</td>\n",
              "      <td>2.57</td>\n",
              "      <td>19</td>\n",
              "      <td>0.31</td>\n",
              "      <td>52.63</td>\n",
              "      <td>47.37</td>\n",
              "      <td>0.00</td>\n",
              "      <td>5.26</td>\n",
              "    </tr>\n",
              "    <tr>\n",
              "      <th>29</th>\n",
              "      <td>Chandigarh</td>\n",
              "      <td>3.13</td>\n",
              "      <td>15</td>\n",
              "      <td>0.24</td>\n",
              "      <td>100.00</td>\n",
              "      <td>0.00</td>\n",
              "      <td>0.00</td>\n",
              "      <td>0.00</td>\n",
              "    </tr>\n",
              "    <tr>\n",
              "      <th>30</th>\n",
              "      <td>Sikkim</td>\n",
              "      <td>2.17</td>\n",
              "      <td>7</td>\n",
              "      <td>0.11</td>\n",
              "      <td>28.57</td>\n",
              "      <td>71.43</td>\n",
              "      <td>0.00</td>\n",
              "      <td>42.86</td>\n",
              "    </tr>\n",
              "    <tr>\n",
              "      <th>31</th>\n",
              "      <td>Arunachal pradesh</td>\n",
              "      <td>2.49</td>\n",
              "      <td>6</td>\n",
              "      <td>0.10</td>\n",
              "      <td>50.00</td>\n",
              "      <td>50.00</td>\n",
              "      <td>0.00</td>\n",
              "      <td>33.33</td>\n",
              "    </tr>\n",
              "    <tr>\n",
              "      <th>32</th>\n",
              "      <td>Dadra and nagar haveli</td>\n",
              "      <td>2.52</td>\n",
              "      <td>3</td>\n",
              "      <td>0.05</td>\n",
              "      <td>66.67</td>\n",
              "      <td>33.33</td>\n",
              "      <td>0.00</td>\n",
              "      <td>0.00</td>\n",
              "    </tr>\n",
              "    <tr>\n",
              "      <th>33</th>\n",
              "      <td>Andaman and nicobar islands</td>\n",
              "      <td>2.50</td>\n",
              "      <td>3</td>\n",
              "      <td>0.05</td>\n",
              "      <td>66.67</td>\n",
              "      <td>33.33</td>\n",
              "      <td>0.00</td>\n",
              "      <td>33.33</td>\n",
              "    </tr>\n",
              "    <tr>\n",
              "      <th>34</th>\n",
              "      <td>Daman and diu</td>\n",
              "      <td>2.17</td>\n",
              "      <td>2</td>\n",
              "      <td>0.03</td>\n",
              "      <td>50.00</td>\n",
              "      <td>50.00</td>\n",
              "      <td>0.00</td>\n",
              "      <td>50.00</td>\n",
              "    </tr>\n",
              "  </tbody>\n",
              "</table>\n",
              "</div>\n",
              "      <button class=\"colab-df-convert\" onclick=\"convertToInteractive('df-96be7510-9179-492c-971d-94288854f64c')\"\n",
              "              title=\"Convert this dataframe to an interactive table.\"\n",
              "              style=\"display:none;\">\n",
              "        \n",
              "  <svg xmlns=\"http://www.w3.org/2000/svg\" height=\"24px\"viewBox=\"0 0 24 24\"\n",
              "       width=\"24px\">\n",
              "    <path d=\"M0 0h24v24H0V0z\" fill=\"none\"/>\n",
              "    <path d=\"M18.56 5.44l.94 2.06.94-2.06 2.06-.94-2.06-.94-.94-2.06-.94 2.06-2.06.94zm-11 1L8.5 8.5l.94-2.06 2.06-.94-2.06-.94L8.5 2.5l-.94 2.06-2.06.94zm10 10l.94 2.06.94-2.06 2.06-.94-2.06-.94-.94-2.06-.94 2.06-2.06.94z\"/><path d=\"M17.41 7.96l-1.37-1.37c-.4-.4-.92-.59-1.43-.59-.52 0-1.04.2-1.43.59L10.3 9.45l-7.72 7.72c-.78.78-.78 2.05 0 2.83L4 21.41c.39.39.9.59 1.41.59.51 0 1.02-.2 1.41-.59l7.78-7.78 2.81-2.81c.8-.78.8-2.07 0-2.86zM5.41 20L4 18.59l7.72-7.72 1.47 1.35L5.41 20z\"/>\n",
              "  </svg>\n",
              "      </button>\n",
              "      \n",
              "  <style>\n",
              "    .colab-df-container {\n",
              "      display:flex;\n",
              "      flex-wrap:wrap;\n",
              "      gap: 12px;\n",
              "    }\n",
              "\n",
              "    .colab-df-convert {\n",
              "      background-color: #E8F0FE;\n",
              "      border: none;\n",
              "      border-radius: 50%;\n",
              "      cursor: pointer;\n",
              "      display: none;\n",
              "      fill: #1967D2;\n",
              "      height: 32px;\n",
              "      padding: 0 0 0 0;\n",
              "      width: 32px;\n",
              "    }\n",
              "\n",
              "    .colab-df-convert:hover {\n",
              "      background-color: #E2EBFA;\n",
              "      box-shadow: 0px 1px 2px rgba(60, 64, 67, 0.3), 0px 1px 3px 1px rgba(60, 64, 67, 0.15);\n",
              "      fill: #174EA6;\n",
              "    }\n",
              "\n",
              "    [theme=dark] .colab-df-convert {\n",
              "      background-color: #3B4455;\n",
              "      fill: #D2E3FC;\n",
              "    }\n",
              "\n",
              "    [theme=dark] .colab-df-convert:hover {\n",
              "      background-color: #434B5C;\n",
              "      box-shadow: 0px 1px 3px 1px rgba(0, 0, 0, 0.15);\n",
              "      filter: drop-shadow(0px 1px 2px rgba(0, 0, 0, 0.3));\n",
              "      fill: #FFFFFF;\n",
              "    }\n",
              "  </style>\n",
              "\n",
              "      <script>\n",
              "        const buttonEl =\n",
              "          document.querySelector('#df-96be7510-9179-492c-971d-94288854f64c button.colab-df-convert');\n",
              "        buttonEl.style.display =\n",
              "          google.colab.kernel.accessAllowed ? 'block' : 'none';\n",
              "\n",
              "        async function convertToInteractive(key) {\n",
              "          const element = document.querySelector('#df-96be7510-9179-492c-971d-94288854f64c');\n",
              "          const dataTable =\n",
              "            await google.colab.kernel.invokeFunction('convertToInteractive',\n",
              "                                                     [key], {});\n",
              "          if (!dataTable) return;\n",
              "\n",
              "          const docLinkHtml = 'Like what you see? Visit the ' +\n",
              "            '<a target=\"_blank\" href=https://colab.research.google.com/notebooks/data_table.ipynb>data table notebook</a>'\n",
              "            + ' to learn more about interactive tables.';\n",
              "          element.innerHTML = '';\n",
              "          dataTable['output_type'] = 'display_data';\n",
              "          await google.colab.output.renderOutput(dataTable, element);\n",
              "          const docLink = document.createElement('div');\n",
              "          docLink.innerHTML = docLinkHtml;\n",
              "          element.appendChild(docLink);\n",
              "        }\n",
              "      </script>\n",
              "    </div>\n",
              "  </div>\n",
              "  "
            ]
          },
          "metadata": {},
          "execution_count": 42
        }
      ]
    },
    {
      "cell_type": "markdown",
      "source": [
        "**Data Visualization**"
      ],
      "metadata": {
        "id": "ZzXCmmdTsAX9"
      }
    },
    {
      "cell_type": "markdown",
      "source": [
        "Colleges in each state"
      ],
      "metadata": {
        "id": "MyRqlbDYsRCE"
      }
    },
    {
      "cell_type": "code",
      "source": [
        "per = state_data['col_count']\n",
        "size = state_data['col_count_percent %']\n",
        "plt.title('Colleges in each State', loc = 'center' , y = 1.8, size = 18)\n",
        "plt.pie(state_data['col_count'] , radius = 2)\n",
        "plt.legend(state_data.state, title = 'State',bbox_to_anchor=(1.7,1.7), loc = 'upper left')\n",
        "plt.show()"
      ],
      "metadata": {
        "colab": {
          "base_uri": "https://localhost:8080/",
          "height": 621
        },
        "id": "c6C9g0FksCQW",
        "outputId": "e4fd7cdf-752e-4e3c-b350-2142cc381715"
      },
      "execution_count": null,
      "outputs": [
        {
          "output_type": "display_data",
          "data": {
            "text/plain": [
              "<Figure size 432x288 with 1 Axes>"
            ],
            "image/png": "[encoded data removed]"
          },
          "metadata": {}
        }
      ]
    },
    {
      "cell_type": "markdown",
      "source": [
        "As we can see Maharashtra state has max no of colleges and daman and diu has min no of colleges, but considering area and population of state its not an issue.\n",
        "\n",
        "Average score of colleges across county is 2.51 we can compare average score of country to state"
      ],
      "metadata": {
        "id": "0P7NOs7TtY2C"
      }
    },
    {
      "cell_type": "code",
      "source": [
        "plt.xlabel('State')\n",
        "plt.ylabel('Average Score of State %')\n",
        "plt.title('Below Avg Colleges in each State')\n",
        "plt.bar(state_data.state,state_data['avg_score'], width = 0.4)\n",
        "plt.xticks(rotation = 90)\n",
        "plt.show()"
      ],
      "metadata": {
        "colab": {
          "base_uri": "https://localhost:8080/",
          "height": 434
        },
        "id": "HHCimkpitaqN",
        "outputId": "0967db57-f4ef-45b6-d829-066c71c5cfd1"
      },
      "execution_count": null,
      "outputs": [
        {
          "output_type": "display_data",
          "data": {
            "text/plain": [
              "<Figure size 432x288 with 1 Axes>"
            ],
            "image/png": "[encoded data removed]"
          },
          "metadata": {
            "needs_background": "light"
          }
        }
      ]
    },
    {
      "cell_type": "markdown",
      "source": [
        "As we can see Daman and diu has min average compare to other state and Delhi and chandigarh has max average score compare to other state percentage of colleges scored below & above than average score in each state"
      ],
      "metadata": {
        "id": "fG9EjcXVtwuz"
      }
    },
    {
      "cell_type": "code",
      "source": [
        "plt.xlabel('State')\n",
        "plt.ylabel('Average Score of State %')\n",
        "plt.title('Below Avg Colleges in each State')\n",
        "plt.bar(state_data.state,state_data['below_avg_col %'], width = 0.4)\n",
        "plt.xticks(rotation = 90)\n",
        "plt.show()\n",
        "\n",
        "plt.xlabel('State')\n",
        "plt.ylabel('Col_count')\n",
        "plt.title('Above Avg Colleges in each State')\n",
        "plt.bar(state_data.state,state_data['above_avg_col %'], width = 0.3)\n",
        "plt.xticks(rotation = 90)\n",
        "plt.show()"
      ],
      "metadata": {
        "colab": {
          "base_uri": "https://localhost:8080/",
          "height": 851
        },
        "id": "URuMBT0StxOD",
        "outputId": "e23994a8-4ba0-4d3f-a2ce-5e258364c6b7"
      },
      "execution_count": null,
      "outputs": [
        {
          "output_type": "display_data",
          "data": {
            "text/plain": [
              "<Figure size 432x288 with 1 Axes>"
            ],
            "image/png": "[encoded data removed]"
          },
          "metadata": {
            "needs_background": "light"
          }
        },
        {
          "output_type": "display_data",
          "data": {
            "text/plain": [
              "<Figure size 432x288 with 1 Axes>"
            ],
            "image/png": "[encoded data removed]"
          },
          "metadata": {
            "needs_background": "light"
          }
        }
      ]
    },
    {
      "cell_type": "markdown",
      "source": [
        "As we can see Bihar, Manipur and Jharkhand have a max colleges who achive below average score and Delhi, Goa,Kerla have max no of above average score\n",
        "\n",
        "What grade max colleges got"
      ],
      "metadata": {
        "id": "6XHf1K_zt3oA"
      }
    },
    {
      "cell_type": "code",
      "source": [
        "grade = pd.value_counts(dataset.Grade)\n",
        "gf = pd.DataFrame(data = grade)\n",
        "plt.xlabel('Grades')\n",
        "plt.ylabel('Col_count')\n",
        "plt.title('Grades')\n",
        "plt.bar(gf.index,gf.Grade, width = 0.4)\n",
        "plt.xticks(rotation = 90)\n",
        "plt.show()"
      ],
      "metadata": {
        "colab": {
          "base_uri": "https://localhost:8080/",
          "height": 309
        },
        "id": "3fUwJ6JKt4V9",
        "outputId": "43b57f5c-03a7-4b00-f2f5-6655c942ec2b"
      },
      "execution_count": null,
      "outputs": [
        {
          "output_type": "display_data",
          "data": {
            "text/plain": [
              "<Figure size 432x288 with 1 Axes>"
            ],
            "image/png": "[encoded data removed]"
          },
          "metadata": {
            "needs_background": "light"
          }
        }
      ]
    },
    {
      "cell_type": "markdown",
      "source": [
        "As we see near about 2500 colleges achive B grade colleges scored between 2.01 - 2.50 which is below avg\n",
        "\n",
        "lets see colleges achieve Top gtrade (A++) and Bottom grade(C)"
      ],
      "metadata": {
        "id": "DfP1O1M9uCsJ"
      }
    },
    {
      "cell_type": "code",
      "source": [
        "array = np.arange(len(state_data.state))\n",
        "plt.xlabel('State')\n",
        "plt.ylabel('Col_count')\n",
        "plt.title('Bottom and Top grade Colleges')\n",
        "plt.plot(array,state_data['top_grade_col %'], marker = '+', label = 'top College')\n",
        "plt.plot(array,state_data['bottom_grade_col %'], marker = '+', label = 'Bottom College')\n",
        "plt.xticks(array,state_data.state,rotation = 90)\n",
        "plt.legend( loc = 'upper left')\n",
        "plt.show()"
      ],
      "metadata": {
        "colab": {
          "base_uri": "https://localhost:8080/",
          "height": 434
        },
        "id": "8AqFPbCUuDZa",
        "outputId": "562919a0-5c92-40b4-ef62-e90ca0a0685f"
      },
      "execution_count": null,
      "outputs": [
        {
          "output_type": "display_data",
          "data": {
            "text/plain": [
              "<Figure size 432x288 with 1 Axes>"
            ],
            "image/png": "[encoded data removed]"
          },
          "metadata": {
            "needs_background": "light"
          }
        }
      ]
    },
    {
      "cell_type": "markdown",
      "source": [
        "As we see most of states dont have any college who achive A++ Grade Tamilnadu Telangana and Delhi have max no. of A++ grade colleges near about 2 to 3 % Daman & diu and sikkim has max no. of colleges achive C grade but thats becaus the have only 2 or 3 colleges Biha, Jharkhand, Manipur, Chattisgarh have max near about 30% college's grade C"
      ],
      "metadata": {
        "id": "KehBtvzzuJ5u"
      }
    },
    {
      "cell_type": "markdown",
      "source": [
        "\n",
        "**Conclusion**"
      ],
      "metadata": {
        "id": "LJs1PEmr4cAj"
      }
    },
    {
      "cell_type": "markdown",
      "source": [
        "\n",
        "Considering all graph and values we can say Delhi, Kerla, Telangana, Tamilnadu are perfom better than other states. Bihar, Manipur, Jharkhand, Chattisgarh perfom poorly. these states need to take some actions their college conditions, to improve status. Most of colleges in county are below average they need improvement."
      ],
      "metadata": {
        "id": "nVjHNX7A4XDI"
      }
    }
  ]
}